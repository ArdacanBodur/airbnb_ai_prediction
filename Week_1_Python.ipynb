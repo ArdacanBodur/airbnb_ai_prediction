{
 "cells": [
  {
   "cell_type": "markdown",
   "metadata": {},
   "source": [
    "# ✨ YAPAY ZEKA TOPLULUĞU | YAPAY ZEKA GELİŞİM KAMPI B24\n",
    "## 🎯 JUNIOR PLUS HAFTA 1"
   ]
  },
  {
   "cell_type": "markdown",
   "metadata": {
    "id": "GEYjv6m49HQF"
   },
   "source": [
    "# Python Basics\n",
    "\n",
    "Bu hafta Python programlama dilinin üstünden hızlı bir geçiş yapacağız.\n",
    "\n"
   ]
  },
  {
   "cell_type": "markdown",
   "metadata": {
    "id": "M-PKbBNbAYSN"
   },
   "source": [
    "## Basic Veri Yapıları"
   ]
  },
  {
   "cell_type": "markdown",
   "metadata": {
    "id": "3n9HVRZh949W"
   },
   "source": [
    "\n",
    "\n",
    "* **Lists - Listeler:** Listeler, birden çok öğeyi bir arada saklamak için kullanılır. Liste öğeleri virgülle\n",
    "ayrılır ve köşeli parantez içine alınır.\n",
    "\n"
   ]
  },
  {
   "cell_type": "code",
   "execution_count": null,
   "metadata": {
    "id": "Aax8CpPD-5BH"
   },
   "outputs": [],
   "source": [
    "my_list = [1, 2, 3, 4, 5]"
   ]
  },
  {
   "cell_type": "markdown",
   "metadata": {
    "id": "xBEx3OA7-0Db"
   },
   "source": [
    "* **Tuples - Demetler:** Tuples, değiştirilemez (immutable) sıralı veri koleksiyonlarıdır. Tuples parantez\n",
    "içine alınır.\n",
    "\n"
   ]
  },
  {
   "cell_type": "code",
   "execution_count": null,
   "metadata": {
    "id": "xca3mZ6_-87u"
   },
   "outputs": [],
   "source": [
    "my_tuple = (1, 2, 3, 4, 5)"
   ]
  },
  {
   "cell_type": "markdown",
   "metadata": {
    "id": "WWfItG16_A4W"
   },
   "source": [
    "* **Dictionaries - Sözlükler:** Sözlükler, anahtar-değer çiftlerini saklamak için kullanılır. Her anahtarın bir\n",
    "değeri vardır."
   ]
  },
  {
   "cell_type": "code",
   "execution_count": null,
   "metadata": {
    "id": "ePFiEV7x--xi"
   },
   "outputs": [],
   "source": [
    "my_dict = {'ad' : 'Ahmet', 'yaş' : 25, 'meslek': 'mühendis'}"
   ]
  },
  {
   "cell_type": "markdown",
   "metadata": {
    "id": "DMYEW4tC_ImU"
   },
   "source": [
    "* **Sets - Kümeler:** Kümeler, benzersiz öğeleri içeren sırasız koleksiyonlardır."
   ]
  },
  {
   "cell_type": "code",
   "execution_count": null,
   "metadata": {
    "id": "YXHe6cnt_R-i"
   },
   "outputs": [],
   "source": [
    "my_set = {1, 2, 3, 4, 5}"
   ]
  },
  {
   "cell_type": "markdown",
   "metadata": {
    "id": "lSD-oPuh_V1V"
   },
   "source": [
    "* **Arrays - Diziler:** Diziler, aynı türdeki verileri saklamak için kullanılan homojen (tek türde) veri\n",
    "yapılarıdır. Ancak, Python'un standart kütüphanesinde diziler yerine genellikle\n",
    "listeler kullanılır. Python’da arraylar genellikler Numpy kütüphanesi ile\n",
    "kullanılır. <br><br>\n",
    "NumPy, Python'da bilimsel hesaplama için kullanılan güçlü bir kütüphanedir ve\n",
    "Python'da array (dizi) veri yapısını ele almak için oldukça önemlidir. NumPy, Python\n",
    "listelerine benzer, ancak daha hızlı ve daha verimli işlemler sağlar, özellikle büyük\n",
    "veri setleriyle çalışırken performans avantajı sağlar.\n"
   ]
  },
  {
   "cell_type": "markdown",
   "metadata": {
    "id": "nz7Aw8sM_z_g"
   },
   "source": [
    "NumPy'da array'ler (diziler), numpy modülündeki array() fonksiyonu kullanılarak\n",
    "oluşturulur.\n",
    "\n",
    "NumPy array'leri oluşturmanın yanı sıra, bu array'ler üzerinde birçok matematiksel işlem ve işlevi de kullanabilirsiniz. Örneğin,\n",
    "array'ler arasında toplama, çıkarma, çarpma, bölme gibi işlemleri\n",
    "gerçekleştirebilirsiniz. Ayrıca, array'lerin şeklini, boyutunu, elemanlarını\n",
    "değiştirebilir, array'ler arasında indeksleme ve dilimleme yapabilirsiniz.\n",
    "\n",
    "NumPy, bilimsel hesaplama, veri analizi, makine öğrenmesi gibi birçok alanda yaygın olarak kullanılmaktadır ve Python'daki array veri yapısının güçlü ve etkili bir alternatifidir."
   ]
  },
  {
   "cell_type": "code",
   "execution_count": null,
   "metadata": {
    "id": "UnSc-iZR_6ZR"
   },
   "outputs": [],
   "source": [
    "import numpy as np\n",
    "\n",
    "# 1 boyutlu array oluşturma\n",
    "arr1d = np.array([1, 2, 3, 4, 5])\n",
    "\n",
    "# 2 boyutlu array oluşturma\n",
    "arr2d = np.array([[1, 2, 3], [4, 5, 6], [7, 8, 9]])\n",
    "\n",
    "# Sıfırlardan oluşan bir array oluşturma\n",
    "zeros_array = np.zeros((3, 3))  # 3x3 boyutunda sıfırlardan oluşan array\n",
    "\n",
    "# Birlerden oluşan bir array oluşturma\n",
    "ones_array = np.ones((2, 4))  # 2x4 boyutunda birlerden oluşan array\n",
    "\n",
    "# Belirli bir aralıkta sayılar içeren bir array oluşturma\n",
    "range_array = np.arange(0, 10, 2)  # 0'dan 10'a kadar 2'şer artan sayılar\n",
    "\n",
    "# Belirli bir aralıkta eşit aralıklı sayılar içeren bir array oluşturma\n",
    "linspace_array = np.linspace(0, 5, 10)  # 0 ile 5 arasında 10 eşit aralıklı sayı\n",
    "\n",
    "# Rastgele sayılardan oluşan bir array oluşturma\n",
    "random_array = np.random.randint(0, 10, size=(3, 3))  # 0 ile 10 arasında rastgele sayılar\n",
    "\n",
    "print(arr1d)\n",
    "print(arr2d)\n",
    "print(zeros_array)\n",
    "print(ones_array)\n",
    "print(range_array)\n",
    "print(linspace_array)\n",
    "print(random_array)"
   ]
  },
  {
   "cell_type": "markdown",
   "metadata": {
    "id": "WtAxnqTcAOn8"
   },
   "source": [
    "## Koşul İfadeleri\n",
    "\n",
    "* Python'da koşul ifadeleri, bir programın akışını kontrol etmek için kullanılan önemli yapı taşlarından biridir. Koşul ifadeleri, bir koşulun doğru veya yanlış olmasına bağlı olarak farklı kod bloklarının çalıştırılmasını sağlar. Python'da en sık kullanılan koşul ifadeleri \"if\", \"elif\" ve \"else\" ifadeleridir.\n",
    "\n",
    "* Örneğin; kullanıcıdan aldığımız bir parolanın ya da email adresinin doğru olup\n",
    "olmadığını kontrol ederek 'uygulamaya giriş yapıldı' ya da 'parolanız yanlış' şeklinde mesajlar verebiliriz.\n",
    "\n",
    "* Ya da 3 sayıdan hangisi büyüktür şeklinde bir karşılaştırmayı kolaylıkla yapıp geriye True ya da False değer döndürmek yerine \"en büyük sayı budur\" şeklinde mesaj verebileceğiz."
   ]
  },
  {
   "cell_type": "markdown",
   "metadata": {
    "id": "500B47BnkVGf"
   },
   "source": [
    "**“if”** ifadesi: Belirli bir koşulun doğru olup olmadığını kontrol eder. Eğer koşul doğruysa, if bloğundaki kod çalıştırılır.\n",
    "\n",
    "**“elif” **ifadesi: \"if\" ifadesiyle birlikte kullanılır ve birden fazla koşulu kontrol etmek için kullanılır. Eğer bir önceki \"if\" veya \"elif\" bloğu doğru değilse ve \"elif\" ifadesinin koşulu doğruysa, \"elif\" bloğundaki kod çalıştırılır.\n",
    "\n",
    "**“else”** ifadesi: hiçbir önceki koşulun doğru olmadığı durumda çalışacak kod bloğunu belirtmek için kullanılır. Yani, bir \"if\" veya \"elif\" bloğu doğru değilse, \"else\" bloğundaki kod çalıştırılır."
   ]
  },
  {
   "cell_type": "code",
   "execution_count": null,
   "metadata": {
    "id": "Z1cZjvuIAjHr"
   },
   "outputs": [],
   "source": [
    "if kosul:\n",
    "  # Koşul doğruysa buradaki kod bloğu çalışır.\n",
    "  pass\n",
    "elif baska_kosul:\n",
    "  # Önceki koşullar yanlışsa ve bu koşul doğruysa buradaki kod bloğu çalışır.\n",
    "  pass\n",
    "else:\n",
    "  # Hiçbir önceki koşul doğru değilse buradaki kod bloğu çalışır.\n",
    "  pass"
   ]
  },
  {
   "cell_type": "markdown",
   "metadata": {
    "id": "Jdnpu7WNk7YH"
   },
   "source": [
    "Aşağıdaki örnekte x'e farklı değerler vererek sonucu inceleyiniz."
   ]
  },
  {
   "cell_type": "code",
   "execution_count": null,
   "metadata": {
    "id": "P8AyL8oVk_Ul"
   },
   "outputs": [],
   "source": [
    "x = 22 # Degistirilmis deger denemesi\n",
    "\n",
    "if x > 22:\n",
    "  print(\"x 22'den buyuktur!\")\n",
    "elif x == 22:\n",
    "  print(\"x 22'ye esittir!\")\n",
    "else:\n",
    "  print(\"x 22'den kucuktur!\")"
   ]
  },
  {
   "cell_type": "markdown",
   "metadata": {
    "id": "5so9fJ6ZlarN"
   },
   "source": [
    "### Alıştırmalar"
   ]
  },
  {
   "cell_type": "markdown",
   "metadata": {
    "id": "Q4OmocPnlbnT"
   },
   "source": [
    "Çocuk Büyüklük Kontrolü: Kullanıcıdan yaş bilgisi girmesini isteyen bir program yazın. Eğer yaş 18'den küçükse \"Çocuk\", 18 ile 65 arasında ise \"Yetişkin\", 65'ten büyükse \"Yaşlı\" yazdırsın."
   ]
  },
  {
   "cell_type": "code",
   "execution_count": null,
   "metadata": {
    "id": "6r0-hdhLlLx1"
   },
   "outputs": [],
   "source": [
    "# Alıştırmanın kodunu buraya yazın.\n",
    "kullanici_yasi = int(input(\"Lutfen yasinizi giriniz: \")) # Yas girdisi\n",
    "if kullanici_yasi < 18:\n",
    "    print(\"Kullanici cocuktur!\")\n",
    "elif kullanici_yasi >= 18 and kullanici_yasi < 65:\n",
    "    print(\"Kullanici yetiskindir!\")\n",
    "else:\n",
    "    print(\"Kullanici yaslidir!\") # Yasin 65'ten buyuk oldugu durum"
   ]
  },
  {
   "cell_type": "markdown",
   "metadata": {
    "id": "vFjK9kzwlisI"
   },
   "source": [
    "Sıcaklık Durumu Kontrolü: Kullanıcıdan sıcaklık değerini girmesini isteyen ve bu değere göre hava durumunu yazdıran bir program yazın. Örneğin, 25 dereceden fazla ise \"Sıcak\", 15 ile 25 arasında ise \"Ilık\", 15'ten düşük ise \"Soğuk\" yazdırsın."
   ]
  },
  {
   "cell_type": "code",
   "execution_count": null,
   "metadata": {
    "id": "sn4i5kv0llo6"
   },
   "outputs": [],
   "source": [
    "# Alıştırmanın kodunu buraya yazın.\n",
    "sicaklik_girdisi = float(input(\"Lutfen hava sicakligini derece selsiyus cinsinden giriniz: \")) # Sicaklik girdisi\n",
    "if sicaklik_girdisi > 25.0:\n",
    "    print(\"Hava sicaktir!\")\n",
    "elif sicaklik_girdisi <= 25.0 and sicaklik_girdisi >= 15:\n",
    "    print(\"Hava iliktir!\")\n",
    "else:\n",
    "    print(\"Hava soguktur!\") # Sicakligin 15 derece selsiyustan dusuk oldugu durum"
   ]
  },
  {
   "cell_type": "markdown",
   "metadata": {
    "id": "QOfx0-O7lnF3"
   },
   "source": [
    "Üçgen Türü Belirleme: Kullanıcıdan üç kenar uzunluğunu girmesini isteyen bir program yazın. Program, girilen uzunluklara göre üçgenin türünü belirlesin. Eğer üç kenar uzunluğu eşit ise \"Eşkenar\", ikisi eşit ise \"İkizkenar\", hiçbiri eşit değilse \"Çeşitkenar\" yazdırsın."
   ]
  },
  {
   "cell_type": "code",
   "execution_count": null,
   "metadata": {
    "id": "8RDdFT53lpjo"
   },
   "outputs": [],
   "source": [
    "# Alıştırmanın kodunu buraya yazın.\n",
    "a_kenari = int(input(\"Lutfen ucgenin birinci kenarini giriniz: \")) # a kenari girdisi\n",
    "b_kenari = int(input(\"Lutfen ucgenin ikinci kenarini girini: \")) # b kenari girdisi\n",
    "c_kenari = int(input(\"Lutfen ucgenin ucuncu kenarini giriniz: \")) # c kenari girdisi\n",
    "if a_kenari == b_kenari == c_kenari:\n",
    "    print(\"Bu ucgen bir eskenar ucgendir!\")\n",
    "elif a_kenari == b_kenari or a_kenari == c_kenari or b_kenari == c_kenari:\n",
    "    print(\"Bu ucgen bir ikizkenar ucgendir!\")\n",
    "else:\n",
    "    print(\"Bu ucgen bir cesitkenar ucgendir!\") # Kenarlardan hicbirinin esitlik gostermemesi durumu"
   ]
  },
  {
   "cell_type": "markdown",
   "metadata": {
    "id": "fHSWvuDElq0r"
   },
   "source": [
    "Yaşa Göre Bilet Fiyatı Hesaplama: Bir sinema salonu için yaşa göre bilet fiyatı hesaplayan bir program yazın. Kullanıcıdan yaş bilgisini girmesini isteyin. Eğer kullanıcı 12 yaşından küçükse bilet fiyatı 5 TL, 12 ile 18 yaş arasındaysa bilet fiyatı 10 TL, 18 yaşından büyükse bilet fiyatı 15 TL olarak belirlensin."
   ]
  },
  {
   "cell_type": "code",
   "execution_count": null,
   "metadata": {
    "id": "zAf8sPbslujv"
   },
   "outputs": [],
   "source": [
    "# Alıştırmanın kodunu buraya yazın.\n",
    "kullanici_yasi1 = int(input(\"Lutfen musterinin yasini giriniz: \")) # Musteri yas girdisi\n",
    "if kullanici_yasi1 < 12:\n",
    "    print(\"Musterinin bilet ucreti 5 TL'dir!\")\n",
    "elif kullanici_yasi1 >= 12 and kullanici_yasi1 <=18:\n",
    "    print(\"Musterinin bilet ucreti 10 TL'dir!\")\n",
    "else:\n",
    "    print(\"Musterinin bilet ucreti 15 TL'dir!\") # Musteri yasinin 18'den buyuk oldugu durum"
   ]
  },
  {
   "cell_type": "markdown",
   "metadata": {
    "id": "vaNpzWgQlx9G"
   },
   "source": [
    "## Döngüler\n",
    "\n",
    "Python'da döngüler, belirli bir işlemi tekrar tekrar gerçekleştirmek için kullanılan yapılardır. Programlamada döngüler, aynı veya benzer işlemleri tekrarlamak için kullanılır ve kodun tekrar kullanılabilirliğini artırır.\n",
    "\n",
    "Python'da iki temel döngü türü bulunur: \"for\" ve \"while\" döngüleri.\n",
    "\n",
    "* Örneğin ekrana 10 tane \"Merhaba\" yazmak istersek yapmamız gereken 10 tane print(\"Merhaba\") yazmak. Ancak sayıyı arttırıp 1000 demiş olsak bu eminim zor olacaktır. Dolayısıyla tekrarlayan bu gibi işlemleri kolaylıkla döngüler yardımıyla yapabiliriz.\n",
    "\n",
    "* Bir koşul gerçekleşene kadar tekrar eden bir kod yapısını düşünelim. Örneğin,\n",
    "kullanıcıdan istediğimiz bir parola bilgisinin en az 7 karakter olma şartını\n",
    "sağlayana kadar tekrar tekrar parola giriniz şeklinde mesaj yazdırmak isteyebilirsiniz. Bu gibi durumlarda döngü kullanmamız gerekiyor."
   ]
  },
  {
   "cell_type": "markdown",
   "metadata": {
    "id": "WW--WP_LmJig"
   },
   "source": [
    "**“for”** döngüsü: Bir dizi elemanın üzerinde sırayla işlem yapmak için kullanılır. Genellikle bir listenin veya başka bir veri yapısının her bir elemanını ziyaret etmek için kullanılır."
   ]
  },
  {
   "cell_type": "code",
   "execution_count": null,
   "metadata": {
    "id": "q1gIqjYAl2EP"
   },
   "outputs": [],
   "source": [
    "dizi = [1, 2, 3]\n",
    "\n",
    "for eleman in dizi:\n",
    "  # Her bir eleman için bu blok çalışır.\n",
    "  pass"
   ]
  },
  {
   "cell_type": "markdown",
   "metadata": {
    "id": "jYYlApl5mXjO"
   },
   "source": [
    "**\"eleman\"**, her döngü adımında sıradaki elemanın değerini alır.\n",
    "\n",
    "**\"dizi\"**, üzerinde dönülecek olan veri yapısını temsil eder."
   ]
  },
  {
   "cell_type": "markdown",
   "metadata": {
    "id": "3iZoX2GMmaQK"
   },
   "source": [
    "“while” döngüsü: Belirli bir koşul doğru olduğu sürece bir kod bloğunu tekrar tekrar çalıştırmak için kullanılır. Döngünün başında ve sonunda koşul değerinin kontrol edilmesi gerekir."
   ]
  },
  {
   "cell_type": "code",
   "execution_count": null,
   "metadata": {
    "id": "XWbmso_rmhv1"
   },
   "outputs": [],
   "source": [
    "kosul = True\n",
    "\n",
    "while kosul:\n",
    "  # Kosul doğru olduğu sürece bu blok çalışır.\n",
    "  pass"
   ]
  },
  {
   "cell_type": "markdown",
   "metadata": {
    "id": "0U2SETdBmoyv"
   },
   "source": [
    "**\"koşul\"**, her döngü adımında kontrol edilen bir ifade veya değişkendir. Koşul yanlış olana kadar döngü devam eder."
   ]
  },
  {
   "cell_type": "markdown",
   "metadata": {
    "id": "_x1woPKemsFW"
   },
   "source": [
    "### DÖNGÜLERİN ÖZELLİKLERİ\n",
    "\n",
    "**Başlangıç ve Bitiş Durumları:** Döngülerin başlangıç ve bitiş koşulları belirtilmelidir. Aksi halde, sonsuz döngülere neden olabilirler.\n",
    "\n",
    "**Döngü Değişkenleri:** Döngüler genellikle bir döngü değişkeni (iterasyon değişkeni) kullanır. Bu değişken, döngü boyunca güncellenir ve döngüdeki her bir adımda farklı bir değere sahip olabilir.\n",
    "\n",
    "**Döngü İçi İşlemler:** Döngüler, her bir adımda belirli bir işlemi gerçekleştirmek için kullanılır. Bu işlemler, döngü bloğu içinde yer alır ve döngü her bir elemanı veya koşulu işlediğinde çalıştırılır."
   ]
  },
  {
   "cell_type": "markdown",
   "metadata": {
    "id": "8ceNAdcCm5qd"
   },
   "source": [
    "Aşağıdaki örneklerde, \"for\" döngüsü bir listedeki her bir elemanı yazdırırken, \"while\" döngüsü bir sayaç kullanarak 0'dan 4'e kadar olan sayıları yazdırır."
   ]
  },
  {
   "cell_type": "code",
   "execution_count": null,
   "metadata": {
    "id": "LdW9leEkm8LT"
   },
   "outputs": [],
   "source": [
    "# for döngüsü örneği\n",
    "liste = [1, 2, 3, 4, 5]\n",
    "\n",
    "for eleman in liste:\n",
    "  print(eleman)"
   ]
  },
  {
   "cell_type": "code",
   "execution_count": null,
   "metadata": {
    "id": "36ioD05tnGiw"
   },
   "outputs": [],
   "source": [
    "# while döngüsü örneği\n",
    "sayac = 0\n",
    "\n",
    "while sayac < 5:\n",
    "  print(sayac)\n",
    "  sayac +=1"
   ]
  },
  {
   "cell_type": "markdown",
   "metadata": {
    "id": "VLscjn_vnUmF"
   },
   "source": [
    "Liste Elemanlarını Toplama: Bir liste içindeki tüm sayıları toplayan bir program."
   ]
  },
  {
   "cell_type": "code",
   "execution_count": null,
   "metadata": {
    "id": "QRCYqUnBnZ3I"
   },
   "outputs": [],
   "source": [
    "liste = [3, 6, 9, 12, 15]\n",
    "toplam = 0\n",
    "for sayi in liste:\n",
    "    toplam += sayi\n",
    "print(\"Liste elemanlarının toplamı:\", toplam)"
   ]
  },
  {
   "cell_type": "markdown",
   "metadata": {
    "id": "PPshBWPInl4S"
   },
   "source": [
    "Çarpım Tablosu: Kullanıcının girdiği bir sayının çarpım tablosunu ekrana yazdıran bir program."
   ]
  },
  {
   "cell_type": "code",
   "execution_count": null,
   "metadata": {
    "id": "dg-d5yn-noA4"
   },
   "outputs": [],
   "source": [
    "sayi = int(input(\"Çarpım tablosunu görmek istediğiniz sayıyı girin: \"))\n",
    "for i in range(1, 11):\n",
    "    print(sayi, \"x\", i, \"=\", sayi * i)\n"
   ]
  },
  {
   "cell_type": "markdown",
   "metadata": {
    "id": "kodZxMXinzCv"
   },
   "source": [
    "Sayı Tahmini Oyunu: Bilgisayarın rastgele seçtiği bir sayıyı tahmin etmeye çalışan bir oyun yazın. Kullanıcı, doğru sayıyı bulana kadar tahminde bulunabilsin. Her tahminden sonra kullanıcıya, tahminin doğru, fazla veya az olduğuna dair geribildirim verin."
   ]
  },
  {
   "cell_type": "code",
   "execution_count": null,
   "metadata": {
    "id": "tT1REmMdnru4"
   },
   "outputs": [],
   "source": [
    "import random\n",
    "\n",
    "hedef_sayi = random.randint(1, 100)\n",
    "tahmin = 0\n",
    "\n",
    "while tahmin != hedef_sayi:\n",
    "    tahmin = int(input(\"Tahmininizi girin (1-100 arası): \"))\n",
    "    if tahmin < hedef_sayi:\n",
    "        print(\"Daha yüksek bir sayı girin.\")\n",
    "    elif tahmin > hedef_sayi:\n",
    "        print(\"Daha düşük bir sayı girin.\")\n",
    "\n",
    "print(\"Tebrikler! Doğru sayı:\", hedef_sayi)\n"
   ]
  },
  {
   "cell_type": "markdown",
   "metadata": {
    "id": "AEPAHOAtn9KI"
   },
   "source": [
    "## Fonksiyonlar\n",
    "\n",
    "Python'da fonksiyonlar, belirli bir işlevi gerçekleştirmek için kullanılan bloklardır. Fonksiyonlar, kodunuzu modüler hale getirir ve tekrar kullanılabilirliği artırır. Bir fonksiyon, belirli bir girdiyi alır, bu girdiyi işler ve bir çıktı üretir.\n",
    "\n",
    "* Yazdığımız bir python uygulamasındaki belli bir kod parçasını bir kaç yerde kullanma ihtiyacı duyduğumuzda fonksiyon oluşturmak işlerimizi kolaylaştırır. Böyle durumlarda sürekli kullanacak olduğumuz kod satırlarını fonksiyonlar içine alıp istediğimiz zaman çağırıp çalıştırabiliriz.\n",
    "\n",
    "* Örneğin basit bir matematiksel işlem yapacağız ve bir çok yerde bu matematiksel işlemi tekrarlayacağız bu durumda bir fonksiyon oluşturup defalarca kullanabiliriz.\n",
    "\n",
    "* Ayrıca işin daha güzel yani Python da hazır bir çok kütüphane var ve bu kütüphaneler içinde önceden oluşturulmuş bir sürü fonksiyon mevcut. Çoğu zaman fonksiyonun içeriğini yazmak yerine hazır olanını kullanabileceğiz. Örneğin gönderdiğimiz bir sayının karekökünü alan sqrt() fonksiyonu."
   ]
  },
  {
   "cell_type": "markdown",
   "metadata": {
    "id": "TqtzgzLpoRbn"
   },
   "source": [
    "Python'da bir fonksiyon \"def\" anahtar kelimesiyle tanımlanır. Bir fonksiyon tanımı şu şekildedir:"
   ]
  },
  {
   "cell_type": "code",
   "execution_count": null,
   "metadata": {
    "id": "4QKt7pOpoZ-P"
   },
   "outputs": [],
   "source": [
    "def fonksiyon_adı(parametreler):\n",
    "    # Fonksiyonun gövdesi\n",
    "    # Belirli bir işlevi gerçekleştiren kodlar burada bulunur\n",
    "    return ciktilar\n"
   ]
  },
  {
   "cell_type": "markdown",
   "metadata": {
    "id": "fINhK80soeOU"
   },
   "source": [
    "* **fonksiyon_adı:** Fonksiyonun adı, çağrıldığında kullanılacak olan isimdir.\n",
    "\n",
    "* **parametreler:** Opsiyonel olarak, fonksiyonun çalışması için gerekli girdilerdir.\n",
    "Fonksiyonun parametre almadığı durumlar da olabilir.\n",
    "\n",
    "* **return:** Opsiyonel olarak, fonksiyonun bir çıktı döndürmesini sağlar. Fonksiyonun bir değer döndürmediği durumlar da olabilir."
   ]
  },
  {
   "cell_type": "markdown",
   "metadata": {
    "id": "6XQpEcGkom0V"
   },
   "source": [
    "Bir fonksiyonun tanımlandığı yerden sonra, o fonksiyonu çağırmak için fonksiyon adını ve gerekli parametreleri kullanabilirsiniz."
   ]
  },
  {
   "cell_type": "code",
   "execution_count": null,
   "metadata": {
    "id": "IwnnhsHGopv1"
   },
   "outputs": [],
   "source": [
    "fonksiyon_adı(argumanlar)"
   ]
  },
  {
   "cell_type": "markdown",
   "metadata": {
    "id": "fJ20aH25owIn"
   },
   "source": [
    "* **argümanlar:** Fonksiyonun parametrelerine verilen değerlerdir. Fonksiyon parametreleri ile çağrılan fonksiyon arasında eşleşme olmalıdır."
   ]
  },
  {
   "cell_type": "markdown",
   "metadata": {
    "id": "KjYwl2t2o0A1"
   },
   "source": [
    "Aşağıdaki örnek, \"toplama\" adında bir fonksiyon tanımlar. Bu fonksiyon iki parametre alır, bunları toplar ve sonucu döndürür. Daha sonra bu fonksiyon, 3 ve 5 sayıları ile çağrılır ve sonucu ekrana yazdırır."
   ]
  },
  {
   "cell_type": "code",
   "execution_count": null,
   "metadata": {
    "id": "bi51prEmo49g"
   },
   "outputs": [],
   "source": [
    "def toplama(a, b):\n",
    "    sonuç = a + b\n",
    "    return sonuç\n",
    "\n",
    "# Fonksiyonu çağırma\n",
    "print(\"Toplam:\", toplama(3, 5))\n"
   ]
  },
  {
   "cell_type": "markdown",
   "metadata": {
    "id": "Tx_cxXkRpAeO"
   },
   "source": [
    "Kullanıcının girdiği bir sayının asal olup olmadığını kontrol eden bir fonksiyon."
   ]
  },
  {
   "cell_type": "code",
   "execution_count": null,
   "metadata": {
    "id": "Ec5L292spCsS"
   },
   "outputs": [],
   "source": [
    "def asal_mi(sayı):\n",
    "    if sayı <= 1:\n",
    "        return False\n",
    "    for i in range(2, int(sayı ** 0.5) + 1):\n",
    "        if sayı % i == 0:\n",
    "            return False\n",
    "    return True\n",
    "\n",
    "sayı = int(input(\"Bir sayı girin: \"))\n",
    "if asal_mi(sayı):\n",
    "    print(sayı, \"asal bir sayıdır.\")\n",
    "else:\n",
    "    print(sayı, \"asal bir sayı değildir.\")\n"
   ]
  },
  {
   "cell_type": "markdown",
   "metadata": {
    "id": "1y7JcMgypF5H"
   },
   "source": [
    "Aşağıdaki alıştırmaları yapınız."
   ]
  },
  {
   "cell_type": "markdown",
   "metadata": {
    "id": "iU_3_PjppK_c"
   },
   "source": [
    "Fibonacci Sayıları: Kullanıcının girdiği bir sayı kadar Fibonacci sayısını hesaplayan bir fonksiyon yazın."
   ]
  },
  {
   "cell_type": "code",
   "execution_count": null,
   "metadata": {
    "id": "TKgwq51TpMxh"
   },
   "outputs": [],
   "source": [
    "# Alıştırma kodunu buraya yazınız.\n",
    "\n",
    "# Bu alistirmayi yaparken arastirma yaptigimi belirtmek isterim!\n",
    "\n",
    "# Fibonacci dizisi formati: F(n) = F(n-1) + F(n-2)\n",
    "# Her sayi kendinden onceki iki sayinin toplami seklinde yazilir!\n",
    "# Not: Ilk iki sayi 0 ve 1 olarak tanimlanir. F(0) = 0 ve F(1) = 1\n",
    "\n",
    "def yazdir_fibonacci(n): # n kadar Fibonacci sayisi yazdirilacak!\n",
    "    fibonacci_dizi = [0,1] # Sabit verilen ilk iki sayi\n",
    "\n",
    "    for i in range(2,n):\n",
    "        yeni_sayi = fibonacci_dizi[i-1] + fibonacci_dizi[i-2]\n",
    "        # Bu kisimda yeni sayi onceki iki sayinin toplami seklinde yaziliyor.\n",
    "        fibonacci_dizi.append(yeni_sayi) # Yeni sayi listeye ekleniyor.\n",
    "\n",
    "    return fibonacci_dizi[:n]\n",
    "n = int(input(\"Goruntulemek istediginiz Fibonacci sayisi miktarini giriniz: \"))\n",
    "print(yazdir_fibonacci(n))"
   ]
  },
  {
   "cell_type": "markdown",
   "metadata": {
    "id": "ykkNrNGkpQej"
   },
   "source": [
    "Karekök Hesaplama: Bir sayının karekökünü hesaplayan bir fonksiyon yazın."
   ]
  },
  {
   "cell_type": "code",
   "execution_count": null,
   "metadata": {
    "id": "NLxhMvJEpSCt"
   },
   "outputs": [],
   "source": [
    "# Alıştırma kodunu buraya yazınız.\n",
    "def karekok(sayi):\n",
    "    return sayi ** 0.5 # Kutuphanesiz temel karekok alma islemi\n",
    "\n",
    "input = int(input(\"Karekokunu almak istediginiz sayiyi giriniz: \")) # Sayi girdisi\n",
    "print(\"Isleminizin sonucu:\", karekok(sayi))"
   ]
  },
  {
   "cell_type": "markdown",
   "metadata": {
    "id": "RYQdypHspUD5"
   },
   "source": [
    "### Recursive Fonksiyonlar\n",
    "\n",
    "Recursive fonksiyonlar, kendi kendini çağıran fonksiyonlardır. Bu tür fonksiyonlar, bir problemi daha küçük alt problemlere bölerek ve\n",
    "bu alt problemleri çözerek çalışırlar. Recursive fonksiyonlar, genellikle problemi daha basit alt problemlere indirgeyebildiğinizde veya problem tekrar\n",
    "ettiğinde kullanılır.\n",
    "\n",
    "Recursive fonksiyonlar, genellikle kendilerini durduracak bir base case (temel durum) ile birlikte kullanılır. Base case, recursive çağrıların sonlandırılmasını sağlar, aksi takdirde sonsuz bir döngü oluşabilir."
   ]
  },
  {
   "cell_type": "markdown",
   "metadata": {
    "id": "gpsoy9y-pn9l"
   },
   "source": [
    "Aşağıdaki örnekte, \"faktöriyel\" adında bir recursive fonksiyon tanımlıyoruz. Fonksiyon, bir sayının faktöriyelini hesaplar. Base case olarak, \"n\" değeri 0 olduğunda faktöriyelin 1 olduğunu belirtiyoruz. Aksi takdirde, \"n\" değerini bir azaltarak fonksiyonu kendi içinde tekrar çağırıyoruz."
   ]
  },
  {
   "cell_type": "code",
   "execution_count": null,
   "metadata": {
    "id": "3-V5cbB2pjT1"
   },
   "outputs": [],
   "source": [
    "def faktöriyel(n):\n",
    "    if n == 0:\n",
    "        return 1\n",
    "    else:\n",
    "        return n * faktöriyel(n - 1)\n",
    "\n",
    "print(faktöriyel(5))  # 5! = 5 * 4 * 3 * 2 * 1 = 120\n"
   ]
  },
  {
   "cell_type": "markdown",
   "metadata": {
    "id": "2LH4e2znpsy9"
   },
   "source": [
    "Recursive fonksiyonlar, bazı durumlarda problemleri daha net ve anlaşılır bir şekilde çözmenize olanak tanır. Ancak, dikkatli olunması gereken bir nokta, recursive fonksiyonların gereğinden fazla çağrılmasıyla stack belleğinin doldurulabileceğidir. Bu durum, programın çökmesine veya hata vermesine neden olabilir. Bu yüzden, recursive fonksiyonlar kullanılırken, base case'in doğru bir şekilde belirlenmesi önemlidir."
   ]
  },
  {
   "cell_type": "markdown",
   "metadata": {
    "id": "uGH5mp1Ipxug"
   },
   "source": [
    "## Nesne Yönelimli Programlama\n",
    "\n",
    "Nesne yönelimli programlama (OOP), bir programı nesnelere dayandırarak organize etme ve tasarlama yaklaşımıdır. Python gibi modern diller, OOP'nin sunduğu avantajları kullanarak karmaşık projeleri daha okunabilir, yönetilebilir ve genişletilebilir hale getirmek için bu yaklaşımı benimserler."
   ]
  },
  {
   "cell_type": "markdown",
   "metadata": {
    "id": "seCbbsdcp5pa"
   },
   "source": [
    "### OOP'nin Temel Kavramları"
   ]
  },
  {
   "cell_type": "markdown",
   "metadata": {
    "id": "isf5H1FAqC52"
   },
   "source": [
    "#### Sınıflar (Classess)\n",
    "\n",
    "Bir sınıf, benzer özellikleri ve davranışları olan nesnelerin bir şablonudur. Özellikleri, sınıfın değişkenleri (veya özellikleri) olarak adlandırılır, davranışları ise sınıfın metotları (veya işlevleri) olarak adlandırılır."
   ]
  },
  {
   "cell_type": "code",
   "execution_count": null,
   "metadata": {
    "id": "AAYshz2aqCOd"
   },
   "outputs": [],
   "source": [
    "class Araba:\n",
    "    def __init__(self, marka, model, renk):\n",
    "        self.marka = marka\n",
    "        self.model = model\n",
    "        self.renk = renk\n",
    "\n",
    "    def bilgileri_goster(self):\n",
    "        return f\"{self.marka} {self.model}, Renk: {self.renk}\"\n"
   ]
  },
  {
   "cell_type": "markdown",
   "metadata": {
    "id": "GZ2OilfwqSew"
   },
   "source": [
    "#### Nesneler (Objects)\n",
    "\n",
    "Bir sınıftan türetilen her bir örnek bir nesnedir. Her nesne, kendi özelliklerini ve davranışlarını taşır."
   ]
  },
  {
   "cell_type": "code",
   "execution_count": null,
   "metadata": {
    "id": "fHgnjaXqqX3p"
   },
   "outputs": [],
   "source": [
    "araba1 = Araba(\"Toyota\", \"Corolla\", \"Beyaz\")\n",
    "print(araba1.bilgileri_goster())  # Çıktı: Toyota Corolla, Renk: Beyaz\n"
   ]
  },
  {
   "cell_type": "markdown",
   "metadata": {
    "id": "2WAnB_akqay-"
   },
   "source": [
    "#### Miras Alma (Inheritance)\n",
    "\n",
    "Bir sınıfın özelliklerini ve davranışlarını başka bir sınıftan miras alabilirsiniz. Bu, kodun yeniden kullanılabilirliğini artırır ve kod tekrarını\n",
    "azaltır."
   ]
  },
  {
   "cell_type": "code",
   "execution_count": null,
   "metadata": {
    "id": "4Ypt3zigqiJ2"
   },
   "outputs": [],
   "source": [
    "class ElektrikliAraba(Araba):\n",
    "    def __init__(self, marka, model, renk, pil_kapasitesi):\n",
    "        super().__init__(marka, model, renk)\n",
    "        self.pil_kapasitesi = pil_kapasitesi\n",
    "\n",
    "    def bilgileri_goster(self):\n",
    "        return f\"{self.marka} {self.model}, Renk: {self.renk}, Pil Kapasitesi: {self.pil_kapasitesi}\"\n"
   ]
  },
  {
   "cell_type": "markdown",
   "metadata": {
    "id": "bJx_fY7UqkSX"
   },
   "source": [
    "#### Çok Biçimlilik (Polymorphism):\n",
    "\n",
    "Farklı sınıfların aynı isme sahip metotları olabilir, ancak bu metotlar farklı davranabilir. Bu, kodun daha esnek ve genişletilebilir olmasını sağlar."
   ]
  },
  {
   "cell_type": "code",
   "execution_count": null,
   "metadata": {
    "id": "czvykeReqppQ"
   },
   "outputs": [],
   "source": [
    "def araba_bilgisi_goster(araba):\n",
    "    print(araba.bilgileri_goster())\n",
    "\n",
    "araba2 = ElektrikliAraba(\"Tesla\", \"Model S\", \"Siyah\", 100)\n",
    "araba_bilgisi_goster(araba2)  # Çıktı: Tesla Model S, Renk: Siyah, Pil Kapasitesi: 100\n"
   ]
  },
  {
   "cell_type": "markdown",
   "metadata": {
    "id": "s53FECmZqrnM"
   },
   "source": [
    "#### Kapsülleme (Encapsulation):\n",
    "\n",
    "Sınıfın içindeki verilerin (değişkenlerin) ve metotların dış dünyadan gizlenmesidir. Böylece, sınıfın iç yapısı değiştirilse bile, dışarıdaki kodun\n",
    "etkilenmemesi sağlanır."
   ]
  },
  {
   "cell_type": "code",
   "execution_count": null,
   "metadata": {
    "id": "h35m-UaTqvYC"
   },
   "outputs": [],
   "source": [
    "class Ogrenci:\n",
    "    def __init__(self):\n",
    "        self.__notlar = {}  # __notlar değişkeni özel (private)\n",
    "\n",
    "    def not_ekle(self, ders, not_degeri):\n",
    "        self.__notlar[ders] = not_degeri\n",
    "\n",
    "    def notlari_goster(self):\n",
    "        return self.__notlar\n",
    "\n",
    "ogrenci1 = Ogrenci()\n",
    "ogrenci1.not_ekle(\"Matematik\", 85)\n",
    "ogrenci1.not_ekle(\"Fizik\", 90)\n",
    "print(ogrenci1.notlari_goster())  # Çıktı: {'Matematik': 85, 'Fizik': 90}\n"
   ]
  },
  {
   "cell_type": "markdown",
   "metadata": {
    "id": "UGpH4YEzqxbv"
   },
   "source": [
    "Bu OOP kavramlarını Python'da uygulayarak, kodunuzu daha organize, yeniden\n",
    "kullanılabilir ve anlaşılabilir hale getirebilirsiniz. OOP, büyük ölçekli projelerde özellikle faydalıdır çünkü karmaşıklığı yönetmeye yardımcı olur ve kodu daha modüler hale getirir."
   ]
  },
  {
   "cell_type": "markdown",
   "metadata": {
    "id": "FcioOJ_Rq1C8"
   },
   "source": [
    "#### Örnekler"
   ]
  },
  {
   "cell_type": "markdown",
   "metadata": {
    "id": "nzaT5yOQq6_F"
   },
   "source": [
    "Hayvan Sınıfı"
   ]
  },
  {
   "cell_type": "code",
   "execution_count": null,
   "metadata": {
    "id": "A6X31GmMq4jQ"
   },
   "outputs": [],
   "source": [
    "class Hayvan:\n",
    "    def __init__(self, ad, tur):\n",
    "        self.ad = ad\n",
    "        self.tur = tur\n",
    "\n",
    "    def bilgi_goster(self):\n",
    "        return f\"Ad: {self.ad}, Tür: {self.tur}\"\n",
    "\n",
    "# Bir köpek nesnesi oluşturalım\n",
    "kopek = Hayvan(\"Karabaş\", \"Köpek\")\n",
    "print(kopek.bilgi_goster())  # Çıktı: Ad: Karabaş, Tür: Köpek\n",
    "\n",
    "# Bir kedi nesnesi oluşturalım\n",
    "kedi = Hayvan(\"Pamuk\", \"Kedi\")\n",
    "print(kedi.bilgi_goster())  # Çıktı: Ad: Pamuk, Tür: Kedi\n"
   ]
  },
  {
   "cell_type": "markdown",
   "metadata": {
    "id": "TKdVF33Vq8rV"
   },
   "source": [
    "Kitap Sınıfı"
   ]
  },
  {
   "cell_type": "code",
   "execution_count": null,
   "metadata": {
    "id": "V34HZ-Qvq9uK"
   },
   "outputs": [],
   "source": [
    "class Kitap:\n",
    "    def __init__(self, ad, yazar):\n",
    "        self.ad = ad\n",
    "        self.yazar = yazar\n",
    "        self.__sayfa_sayisi = 0  # Özel bir özellik\n",
    "\n",
    "    def sayfa_sayisi_ekle(self, sayfa_sayisi):\n",
    "        self.__sayfa_sayisi += sayfa_sayisi\n",
    "\n",
    "    def sayfa_sayisi_goster(self):\n",
    "        return self.__sayfa_sayisi\n",
    "\n",
    "# Bir kitap nesnesi oluşturalım\n",
    "kitap1 = Kitap(\"Python Öğreniyorum\", \"Ahmet Mehmet\")\n",
    "kitap1.sayfa_sayisi_ekle(200)\n",
    "print(kitap1.sayfa_sayisi_goster())  # Çıktı: 200\n"
   ]
  },
  {
   "cell_type": "markdown",
   "metadata": {
    "id": "qIcUxzDlrBgk"
   },
   "source": [
    "# Görevler"
   ]
  },
  {
   "cell_type": "markdown",
   "metadata": {
    "id": "wZhAGRjQrHli"
   },
   "source": [
    "GÖREV 1: Bir cümledeki kelime sayısını hesaplayan bir fonksiyon yazın.\n"
   ]
  },
  {
   "cell_type": "code",
   "execution_count": null,
   "metadata": {
    "id": "aeu-AANzrDJh"
   },
   "outputs": [],
   "source": [
    "# Cevabınızı buraya yazın.\n",
    "def kelime_sayar():\n",
    "    metin = input(\"Lutfen metin giriniz: \") # Metin girdisi\n",
    "    kelime_sayisi = metin.split() # Bosluklar sayilarak kelime sayisi bulunur.\n",
    "    print(\"Metinde su kadar kelime vardir:\", len(kelime_sayisi))\n",
    "kelime_sayar()"
   ]
  },
  {
   "cell_type": "markdown",
   "metadata": {
    "id": "NQme0r4lrJiS"
   },
   "source": [
    "GÖREV 2: Bir sayının karekökünü hesaplayan bir fonksiyon yazın.\n"
   ]
  },
  {
   "cell_type": "code",
   "execution_count": null,
   "metadata": {
    "id": "M5ciJgRyrTA-"
   },
   "outputs": [],
   "source": [
    "# Cevabınızı buraya yazın.\n",
    "def karekok_hesapla():\n",
    "    sayi = int(input(\"Lutfen bir sayi giriniz: \")) # Sayi girdisi\n",
    "    karekok = sayi ** 0.5                          \n",
    "    print(f\"Girilen sayinin karekoku: {karekok}\") # Format yontemiyle islem sonucu"
   ]
  },
  {
   "cell_type": "markdown",
   "metadata": {
    "id": "XIjGrFzsrNL6"
   },
   "source": [
    "GÖREV 3: Bir kelimenin palindrom olup olmadığını recursive bir fonksiyon kullanarak kontrol edin.\n"
   ]
  },
  {
   "cell_type": "code",
   "execution_count": null,
   "metadata": {
    "id": "pp4FtERsrUBt"
   },
   "outputs": [],
   "source": [
    "# Cevabınızı buraya yazın.\n",
    "\n",
    "# Asagida yazdigim kodu olusturmak icin arastirma yaptigimi belirtmek isterim.\n",
    "\n",
    "def palindrom(kelime):\n",
    "    if len(kelime) <= 1: # Tek harf veya bosluk dogal olarak palindromiktir!\n",
    "        return True\n",
    "    elif kelime[0] != kelime[-1]: # Bas ve son harf kontrolu (ayni degilse False)\n",
    "        return False\n",
    "    else:\n",
    "        return palindrom(kelime[1:-1]) # Kelime bastan ve sondan kucultulerek tekrar tekrar kontrol edilir.\n",
    "        # Bu asama fonksiyonun recursive olarak calistigi asamadır!\n",
    "\n",
    "kelime = input(\"Lutfen bir kelime giriniz: \") # Kelime girdisi\n",
    "\n",
    "if palindrom(kelime): # If True\n",
    "    print(f\"'{kelime}' kelimesi palindromdur!\")\n",
    "else:                 # If not True\n",
    "    print(f\"'{kelime}' kelimesi palindrom degildir!\")"
   ]
  },
  {
   "cell_type": "markdown",
   "metadata": {
    "id": "GTeFSUJtrOfq"
   },
   "source": [
    "GÖREV 4: Bir Araç sınıfı oluşturun. Bu sınıf, araçların genel özelliklerini (marka, model, hız vb.) içermelidir. Daha sonra bu sınıftan türetilmiş en az bir alt sınıf (örneğin, Otomobil veya Kamyonet) oluşturun ve bu alt sınıfın özelliklerini ve metotlarını yazdırın.\n"
   ]
  },
  {
   "cell_type": "code",
   "execution_count": null,
   "metadata": {
    "id": "SnAEhccLrUi4"
   },
   "outputs": [],
   "source": [
    "# Cevabınızı buraya yazın.\n",
    "class Arac: # Ana sinif: Arac\n",
    "    def __init__(self, marka, model, yil, renk, hiz, fiyat): # Sinifin genel ozellikleri\n",
    "        self.marka = marka\n",
    "        self.model = model\n",
    "        self.yil = yil\n",
    "        self.renk = renk\n",
    "        self.hiz = hiz\n",
    "        self.fiyat = fiyat\n",
    "    \n",
    "    def bilgilerini_goster(self):\n",
    "        print(f\"Marka: {self.marka}\")\n",
    "        print(f\"Model: {self.model}\")\n",
    "        print(f\"Yil: {self.yil}\")\n",
    "        print(f\"Renk: {self.renk}\")\n",
    "        print(f\"Hiz: {self.hiz} km/s\")\n",
    "        print(f\"Fiyat: {self.fiyat} TL\")\n",
    "\n",
    "class Otomobil(Arac): # Arac alt sinifi: Otomobil\n",
    "    def __init__(self, marka, model, yil, renk, hiz, fiyat, beygir): # Beygir (HP) sinifina has ozelliktir.\n",
    "        super().__init__(marka, model, yil, renk, hiz, fiyat)\n",
    "        self.beygir = beygir\n",
    "\n",
    "    def bilgilerini_goster(self):\n",
    "        super().bilgilerini_goster()\n",
    "        print(f\"Beygir: {self.beygir} HP\")\n",
    "\n",
    "oto1 = Otomobil(\"Mercedes-Benz\", \"E-180 Edition 1 Exclusive\", 2024, \"Siyah\", \"225\", 5461500, 170) # oto1 bilgileri\n",
    "oto1.bilgilerini_goster() # Bilgilerini gosterecek fonksiyon cagrilir."
   ]
  },
  {
   "cell_type": "markdown",
   "metadata": {
    "id": "8_74bGWSrPvs"
   },
   "source": [
    "GÖREV 5: Bir Dikdörtgen sınıfı oluşturun. Bu sınıf, dikdörtgenlerin genel özelliklerini (uzunluk ve genişlik gibi) içermelidir. Ayrıca, dikdörtgenin alanını ve çevresini hesaplayan örnek metotlar ekleyin."
   ]
  },
  {
   "cell_type": "code",
   "execution_count": null,
   "metadata": {
    "id": "t2FDsGm-rU_e"
   },
   "outputs": [],
   "source": [
    "# Cevabınızı buraya yazın.\n",
    "class Dikdortgen: \n",
    "    def __init__(self, uzunluk, genislik): # Sinifin genel ozellikleri\n",
    "        self.uzunluk = uzunluk\n",
    "        self.genislik = genislik\n",
    "    \n",
    "    def alan(self):\n",
    "        return self.uzunluk * self.genislik # uzunluk . genislik = alan hesabi\n",
    "\n",
    "    def cevre(self):\n",
    "        return (self.uzunluk + self.genislik) * 2 # kenarlar (uzun ve kisa) toplami * 2 = cevre hesabi\n",
    "    \n",
    "    def bilgilerini_goster(self):\n",
    "        alan = self.alan() # Alan ve cevre degerleri haricen belirtildigi icin self ile cagrilamaz!\n",
    "        cevre = self.cevre()\n",
    "        print(f\"Uzunluk = {self.uzunluk} cm\")\n",
    "        print(f\"Genislik = {self.genislik} cm\")\n",
    "        print(f\"Alan = {alan} cm²\") # self.alan YOKTUR!\n",
    "        print(f\"Cevre = {cevre} cm\")\n",
    "\n",
    "dikdortgen1 = Dikdortgen(10, 5) # dikdortgen1 bilgileri\n",
    "dikdortgen1.bilgilerini_goster() # Bilgilerini gosterecek fonksiyon cagrilir."
   ]
  }
 ],
 "metadata": {
  "colab": {
   "collapsed_sections": [
    "GEYjv6m49HQF",
    "M-PKbBNbAYSN",
    "WtAxnqTcAOn8",
    "5so9fJ6ZlarN",
    "vaNpzWgQlx9G",
    "_x1woPKemsFW",
    "AEPAHOAtn9KI",
    "uGH5mp1Ipxug",
    "qIcUxzDlrBgk"
   ],
   "provenance": [],
   "toc_visible": true
  },
  "kernelspec": {
   "display_name": "Python 3",
   "name": "python3"
  },
  "language_info": {
   "name": "python"
  }
 },
 "nbformat": 4,
 "nbformat_minor": 0
}
