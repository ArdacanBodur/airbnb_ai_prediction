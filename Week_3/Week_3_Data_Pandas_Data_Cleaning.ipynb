{
 "cells": [
  {
   "cell_type": "markdown",
   "metadata": {},
   "source": [
    "# ✨ YAPAY ZEKA TOPLULUĞU | YAPAY ZEKA GELİŞİM KAMPI B24\n",
    "## 🎯 JUNIOR PLUS HAFTA 3"
   ]
  },
  {
   "cell_type": "markdown",
   "metadata": {
    "id": "mhcKFnlfZu57"
   },
   "source": [
    "# Pandas\n",
    "Veri bilimi alanında sıkça kullanılan ve oldukça güçlü bir araç olan Pandas kütüphanesi, Python programlama dilinde veri analizi ve manipülasyonu için kullanılır. Pandas, veri manipülasyonu ve veri analizi için yüksek performanslı, kullanımı kolay veri yapıları ve fonksiyonları sağlar."
   ]
  },
  {
   "cell_type": "markdown",
   "metadata": {
    "id": "UDcpwS8AaRZZ"
   },
   "source": [
    "**Kaynaklar**\n",
    "* https://www.w3schools.com/python/pandas/default.asp\n",
    "* https://www.geeksforgeeks.org/pandas-tutorial/\n",
    "* https://www.kaggle.com/learn/pandas\n",
    "* https://www.youtube.com/watch?v=gtjxAH8uaP0\n",
    "* https://www.youtube.com/watch?v=Ax4iI-2Ktp0&list=PL-Hkw4CrSVq-qwoZJKGXdYoGYQseJoPR2"
   ]
  },
  {
   "cell_type": "markdown",
   "metadata": {
    "id": "KzhhjKHtZ7QM"
   },
   "source": [
    "### **Pandas'ta bulunan Veri Yapıları**\n",
    "* **DataFrame:** İki boyutlu bir veri yapısıdır. Satırlar ve sütunlar şeklinde düşünülebilir. Bir DataFrame, farklı türde veri türlerini depolayabilir (örneğin, sayılar, dizeler, zaman damgaları).\n",
    "\n",
    "* **Series:** Tek boyutlu etiketli bir dizi gibi düşünülebilir. DataFrame'in bir sütunu, yani tek bir değişken, bir Series olarak temsil edilir.\n",
    "\n",
    "![68747470733a2f2f71696974612d696d6167652d73746f72652e73332e61702d6e6f727468656173742d312e616d617a6f6e6177732e636f6d2f302f3131373437392f32623061326364342d636131392d633665342d313364342d3664323133636432306539642e706e.png](data:image/png;base64,iVBORw0KGgoAAAANSUhEUgAAAu0AAAD5CAIAAAAcBJyUAAAAAXNSR0IArs4c6QAAAARnQU1BAACxjwv8YQUAAAAJcEhZcwAADsMAAA7DAcdvqGQAACv7SURBVHhe7Z1Pix3H1cb7q3jrYBDj2cxCn8DJxmAZyyDtBozjLLwyAQvBRAGTxeClTSAywkRo490QEy+koJWwtq8h2tjg7IS/wrzd997urv5bXdVVXXXO/Q2D/0hV1XWf55ynnj5V3be45gcEQAAEQAAEQAAEZCJQyJw2swYBEAABEAABEACBa3wMQQACIAACIAACICAVAXyMVOaYNwiAAAiAAAiAAD6GGAABEAABEAABEJCKAD5GKnPMGwRAAARAAARAAB9DDIAACIAACIAACEhFAB8jlTnmDQIgAAIgAAIggI8hBkAABEAABEAABKQigI+RyhzzBgEQAAEQAAEQwMcQAyAAAiAAAiAAAlIRwMdIZY55gwAIgAAIgAAI4GOIARAAARAAARAAAakI4GOkMse8QQAEQAAEQAAE8DHEAAiAAAiAAAiAgFQE8DFSmWPeIAACIAACIAAC+BhiAARAAARAAARAQCoC+BipzDFvEAABEAABEAABfAwxAAIgAAIgAAIgIBUBfIxU5pg3CIAACIAACIAAPoYYAAEQAAEQAAEQkIoAPkYqc8wbBEAABEAABEAAH0MMgAAIgAAIgAAISEUAHyOVOeYNAiAAAiAAAiCAjyEGQAAEQAAEQAAEpCKAj5HKHPMGARAAARAAARDAxxADIAACIAACIAACUhE4Zh/z6vKsqH7OLl9JpY95zyAAv7rDA35188unA4GlCIjyMbVw7dxHUZxfLf2U4+2uzgMNNDGNdrprZ7ruc4rpLYjfJnbChKIYilZNVA6/vZlyq7OK97pzH9XNcqeXrXFlPwhUDOKGgBgfEyEH4t3P9SeLj7FGpSB+x1Vxta22QiS6gRx+x2e6/rZJNH1BJj+ROI73pIdRHKroE4yiykFYzWIQKT6mTgEjeqs/yjMUd5OtZlrPOs9pZhGAh0lI4rcTeIZGwvJ0RAnid8doyyVV1WA6MSKHhrVZmj7+PsbB+gT7zAy0CQJCfMyy0knX75t5cehf/pGRS+ODTg9SEtJx9vbEw8csDGKh/Fafrg0JZHKSbcH8tgTb831htB9rs3E5bBLIyJ9eBaX5m5GKTs3KVBcjRUcTdHRp6Cb24BTlfhrmnWp7zNKY4vB6s4vLsYZFiM8txMc09mOyBDNas2wCaVhZLMN/KK4eg8ySgI9ZGqMt8hOrhQc18fntyh3rnL0eIyt/OzYVepcm81S7KTns/vn4LtBeyid8zFyXhT7mcGbmsMdlGXBmg8wYp7dfNq9ga7E98v5SfEy3EjJ4xmhQtq4D8SA+o9X//jpnGaQ3ZJVTNmnDxyxOr5nbKUO/BsY0Lb+sczr5HSxjlNoWEz3TcEoOu0Lc29cbqPLIvpKly2w1cHppaNW9P4f+XZcZL/tezZ/Ug9hWqBD4HvEYYnxMf1On88D0VGg3DzUNwsqMtYNI2QYZHWM+dPAxLqk1vXrYqBmv/ffkyzaIB7+Gu7ZZWhcglLaVw+/Y7ThWZnVYLvMx/cv083Ykjy1dxqsr/VuguQzuXXMwhaFTchSf1dge+QCSfMyeqm5Q7oJvPE73Fb69/PRrKZ2Ruk16hUFzb9R5dxMf455egvi1boa5f3r9PQTx29cbvOq68FzuY0b2YPpnZPq+cqbLIh8zIHdmwKGVsjgb+wq1Dtmj7y3Px+wpa4KsCr+5KOmW+TrBOlLOHDMx3TfVdKLbdo+Gj/FNsPz5xcT4cisnfw+fsBOMaz71kfedksPun0+o+ZyPsXRZtK80ujT01oN6DkF9DO44QFpI9THdR5qtpcYF9Zh6RJs36dgoS2N8jHeIdqDLjt9WOFEhP4rz5rf7mfAxfhz3e43LYW8/d9DIvq9k6+LsY2wDOvsYp8UlDNjHNYoQH1MFjukZmtjv7QkN2vQ2QWfqMW1VZ2KQ6pr9h/wsqxg+ZmE2ieIXE7OQ1baZIH537Jp5TeHNme6JDiNy2ILbq3XUFPSU3ijFD4/h9k+81EOu9TGDObj7mOHHKD/JINRCAX184wjyMSN7Pq3jmNpacvAx0/tTvSPo7UQmbMzUZBaVeo4vBs1twi7JWfI7sm9+mDX8TgXvBGai+KXytlaapjPHNI7WWOk2qGixdHH2MbYB3X2MbXFZC+2x9xfiY0aWuqGs9O2D0WLJvtI+FGYGGTtiPBo/+BiPtOprUbb8LlNjDwR0dxHD74gIYFCDxObseVvzCmasnF/t/8/kwPj7fhln/9KWbhd3H9Nbb/oD+vgY2+ISBOGjHUSOjzlaivjgIAACIAACIAACEwjgYwgNEAABEAABEAABqQjgY6Qyx7xBAARAAARAAATwMcQACIAACIAACICAVATwMVKZY94gAAIgAAIgAAL4GGIABEAABEAABEBAKgL4GKnMMW8QAAEQAAEQAAF8DDEAAiAAAiAAAiAgFQF8jFTmmDcIgAAIgAAIgAA+hhgAARAAARAAARCQigA+RipzzBsEQAAEQAAEQAAfQwyAAAiAAAiAAAhIRQAfI5U55g0CIAACIAACIICPIQZAAARAAARAAASkIoCPkcoc8wYBEAABEAABEMDHEAMgAAIgAAIgAAJSEcDHSGWOeYMACIAACIAACOBjiAEQAAEQAAEQAAGpCOBjpDLHvEEABEAABEAABPAxxAAIgAAIgAAIgIBUBPAxUplj3iAAAiAAAiAAAvgYYgAEQAAEQAAEQEAqAvgYqcwxbxAAARAAARAAAXwMMQACIAACIAACICAVAXyMVOaYNwiAAAiAAAiAAD6GGAABEAABEAABEJCKQMY+5mlxLf1XalRsMe///N/X0n+3gEnsNX58+l9lv2KpSDdx4QIuXaCOJwHxMTHdUjoByf/K0jWinH/+ICecoTINLT9OQjClXhofk/RuTVkOzmQBPgYfk0Yk8TFpcN/qqso0FB/jEzj4GHxMuLosPiamWZnJVZ/UP5Y++BjdTONjdPO76NPhY/Ax+BjOxywSC5mN8DEyeVs6a3zMUqQUt8PH4GPwMfgYxRKHj1FMbvnR8DG6+V306fAx+Bh8DD5mkVjIbISPkcnb0lnjY5YipbgdPgYfg4/BxyiWOHyMYnKpx+gmd+mnw8fgY/Ax+JileiGwXWof85c/3iiqnxu3/umrNQJR327K1GO2wzrbK+FjfLVlJ49rNUpZDs6EuYznrl99vFty9j9vFq8G6XH1+/bvzz5O9HTSMGmz1ZcMJmb1Mf/87I2a1Df++K/gL81bqxG8P2Y+iEwN/e7jvWfs/vz+77J0NoOkkTYFQxIlarh0jVKWg+J9jGlTSi08/6LrVL4tzkyF/D0+RoDe2TSi9hk7Zn/32V9s7V2NDj4mbpDYNbS6J/nzd+HKzrFdUVy8VI5u+BiJGm7TnNw1SlkO6vExZ2/ulrWuUzk4/TdrN4OPkaCJFo34163fVUzf/MOtvUW9+bdVFdqhy8HHxI2SMQ298em3hy8r+LIuoL77hZivL4iLl8rRx3yMIA2XrlHKclCPj7msN5iujAy53JmbcjvpfL/kGT6mU8zctWnO3DS9rr+Y3JPqdd+3Gw7S9L/8tlsKUqlNgT7UvEYcNpVu/ek/X93cw/uHr0wvcnAhVZ3m4Hh6ZZulDXrnY/52sE2LzFMgJHQOM6+hP37x/h5i08f0tp/e+vjf9SD//nSX49Wf1B0P/2uUc6J1PzgtnTxF/VRjPkaQhkvXKGU5qMfHXNVbSO3WUv0npYfo+Zi9U+n9NC5k9G/Lxs3Ioyam9TG9zaz6Mp09r6gaIXzwWY04uJCdd/nTH/bYlp6mLcl0KromxfUO1OIG7Tnf+kKdiJk7miOcgbjTX3Yv+P6XByNycCq9bK2tzPjfGjYoand8jG+ojPkYQRouXaOU5aAiH/O0OPiPuujSbCqVh39HfIxRmzn8bX1MuPUx+zaNL6m77NsffM/APzXdmxrMYfyiaGtFvul/DP3mNOJQgzl4iLpGYm4tGTbl4G8aF7JvtrhB7WPqqzTGpR6h4586+1PHQJP3Z7TvzXcOx+yMSHvy9+/v7h3NoY1hU/Ztvv3zW/sGhy5Ru+NjfKNg1MfI0XDpGqUsB1X5mKZMsrcLptsY7iuZT24fDpr1fIzx9FOngVHm2Q/S7kMZpsfcY2om1u4u+ab/MfSb0YiDpWgqJSNbSyOnW+rnm/ZGxLXBwQaZB4rrASeP5hwDTd6f0a6hlQ1pT8z0TukeDtD0fIxhfboN+odsgnbHx/hGwYSPkaLh0jVKWQ6q8jFN4aTyEPXRlr11GPqY3iH53R3e4bHtQ0Flysd0HVJz0cO2UX3dzi7S8A990/8Y+k1rxNBSDLeWZmzK/iSNYwPjkM1gK3Jya+kYaPL+jJa9+aagMrQmJgEuPqY5O9wOEKY7PsY3CiZ8jBQNl65RynJQl49pypJvFpf7px5qL7LkfMxyHzN6PuawZ4SP8VW2pt+kRtTVl4GfKP9gsOljvMWued9MaB9DPcaHbIuGPv1vbTv2JZmJEzBLjUjU7vgYnwCo+kz5GCEaLl2jlOWgNh/TcxhNUaTjYwZWw21fqanuNMup+f69eteJfSVfhbue0ojuE0N9M9M/xmv4mO4Bl5F6zGyDkX0l29sjvvb+7MfQ0U1DB48vuW0Mxe2Oj/EN2GkfI0LDpWuUshzU5mPaM7m7Za45VzvnY5pjvAv3lWobZD7gbd5eNOd8Dw0G41eN+ZlGYEIjpvxEvbV0MC6DY7zNxpBrg357cxdpdxXO+XqFsVtNu2dE+rtOdbll6nxM3O74GK8ImK3HiNBw6RqlLAfV+ZimLFk9sNC+sqW3r9Q8QNS5qV/oYyYeq25tjfHWGXP8zitkfNP/GPqNakT3rG7n4aDxaspg86l+zczkc9f9Bk1FZ+qIDD7GKxwdzxjWDyj1CF26rxS1Oz7GKwLmfYwEDZeuUcpyUKGPacqS5knb4Tlf08pc7Z3HQh9jpllXW02n0rFKwy9+8k3/Y+g3phGz79itz83stpaMlsZ5GuNdeS4Npl9L0335Xv+lwMdAk/dntGto//uVTC/y/pf7EstSH1NajXjd8TG+UTC9r1SWq/PXcOkapSwHxfuY7b/4uvdkYDWB0bO981/o6pv+x9DPevpkyUuopr+tOsDXDlhneAw0eX/G2N92tP343lAcb8ek33e9XsOtCpC5Rm2fI1GviI9x/ubI3qHgqbsHi8E6XgGzf3LpGlHO3/4hj7hFVEVLMvgRk+n70ZP6mPUaLl2jkqRJvIviY5x9zNSXEjTbUotKRL7pfwz9pGsEPmY+SuPJWaqRjyErA3/GpD5mvYZL16hUmRLpuvgYZx9jbiQ1x2M6b71bkqKBVUHVcNI1Ah+Dj1GVkDE+zBKRjNpm8DSGk4ZL16hIfiLVsPgYLx+zPsFiSIOWMddpRP/IbZLRtFAR5XOkErt4140Ck+5B10to0hGSqErAi8bLhSQj42PwMdnpZcB0TTVUdpjmNKEkShf1ojmhK2QuSV3Ioq3/2RmmEpZQ142aDtsPHt7HjL0znj/rIyBEbManCZ1WBODXCpGmBtCtiU0+izgEoviY317/EvW3RFm6cEifP/zOZY78+ITf5RmqQI6i0j06uALQlkdIhi2l429COv9ZPL1COWjsrJDOgYL5R6VYAT4ZKtfyKcVOYen89pCU/nFi042PWZ56m7WUHrT4mM1CZfJC0mMotvApwCd9kK2YAfw6gacgXKPeluBjnMJpm8bSgxYfs02czF1Fegyxzs3HEPzOr4vS8aEes973SI8B5p9+Ha1nwL5SGi4U5MB6IZsZQQE+aQIr0FXxqU5AKgjXqOlMPcYpnLZpLD1oqcdsEyfUY/zPekvPMQXzj7qwSceHesz68JAeA8w//TpKPSYtBwpyYL2QUY9JG4QzV6ce40QN6eyhBgpAcwqS3BpLx596TPqIkh5DrHOcj/FYupou0uOfeswa9vd9pccA80+/jlKPScuBghxYL2TUY9IGIfWYUPiTzh5qoAC0UPGTZBzp+FOPSRI2nYtKjyHqMdRjPJYu6jHppWdsBrHTmXO+GfIufQ3Cx6QPKukxFFv4FOCTPshWzAB+ncBTEK5rXKlfXwWgOQVJbo2l44+PSR9R0mOIdY56jN/qpeNsBOdj1rCvIwYUaHj6hTDQDOa54HsJAsE8GEZBDqwXMs7HxAqv1ePiU50gJJ091EABaE5Bkltj6fhTj0kfUdJjiHWOeozH0sX5mPTSw/mYQBwo0PBASKQfJvt6zIt7p+Ucdz93H7fvVZMVQ1fn1fzPLl81hMua/zBOg/kY2fy+ujyro7P89/kV/PbNjWx++4Fv8m2wfU06z5laFTEgVsNVaZRfAibfV3p4tyhOL55VSfL4dlGcPHhxsDKShKPMgLPz8zN8zPD1vtL5rdLKXM/wMd31TDq/XR9Tsl3fi+z0tGVekhxtXY9REQOCNVyRRvkmYGofU3mX2092L0367fWzB6dtSUaOcOzDqPon9Zj+TZt4fhVpRHd5C1NvE8/vdMG8m9By5Gj8E4Wh+yDU3dsVDTEgWsOVapRLAib2MS8vTorTey8NH3Oozch5F2QdRPiYke9aks+vWeY0bSobDRXd8vmd9jHVNgP1GPsXqCmIAeEarlSjXBIwKx/zy5M79R6TFB/TWmF8jNXHCOTXWObYaBiekOiuYbL5HewwUV61m5iBlxUYA4o0XJFGua2nWfmYal9JVD3GLOi54Z7+/LdtBkEK0Qru1QycOjcIbDQorsdUTHeqb5TfJj2N8BxXpuFKNMo1ARP7mN3ZXrnnY/Yn3Ls/tfyxztVnt+XyO3eLDr/a+K3ZHmpo+TfQPfm8Ehpuuyfc7u9dzpRsNyvHK3kkYGof87o663543LqTD+K+K5V6zOgdm2x+r87bu/JedrGw7RY22fwOBHZXmO9WYvZtoHv6uWs1MSBSw3VplGcCJvcxv/zWvnugfei6zBlpwiEyB2aMcpB9pUr7RPNrVtzYaBh9XEU0v70EGBZY65O+0uSon9nB0llzDMjUcE0a5ZuAGfiY0cSQ52NGhMOxnJZX87jCB7+p2YZfJwbwMR4vd1YAmlOQ5NZYOv4mnvOfBR8TK/akxxDr3HxkwO/8wiYdnx770j9O7HQeDQYFoMVaHjYZVzr++JhNwmT2ItJjKLbwKcAnfZCtmAH8OoGnIFw9CioruygAzSlIcmssHX98TPqIkh5DrHPUY9YsY9Ljn3rMGvb3faXHAPNPv47WM4i1r1SOy888AvkEgcdMINeKgAeq+XSxfjoa9BDIhzuPmcAmCEhHYCbs8z4f8+NX12J/FXj59TdkMyOU+Pz06w9yf+HXej7mfz+/VvML3R5qUIEmVsDLmSvQqCNJQHxMLKuE8FnXObkmppw5/Fr5VaOh5QeBbnyMOL0qg1ZNDsbaV/IIa6cuCry8R/k3ny4bnI8RpwvmhFnY8DH5ZKt1JrHTefJ5Jeox6arO+BhLXmyQFfgYqzZFbRCbYgU126j4xx58A37V3AtSj3G6BW0aK9Bw6fdaanKQekysnaP5rV/u163369I1IrbViDo+PsZJ4klnDyuDj0krcdRjqMesdT8IHz4mqhFZOTg+Bh/jYU2cuuBj8DFOWTbTmHrMWkfid+QeH4OPWWk1onbHxzgpLOns5GDa98dwPobzMSGeW8TH4GN8FsQN1rm0Nysrr87CZvWpTkYh88bQjY9ZqRjbd2dfiX2lte4H4bOuc9sndsArwq+V38ytidP0oBsfE1A9thkKH4OPwccUHsq1vAvPK/lUycL12aDe5mQUMm+Mj1me2jyvtI1NsV4FH4OPwcfgY+ZeN8zCRj0mnKuMPlJs28r7Y6yuYvsG+Bh8DD4GH4OPqb7tz+9Xk4by/hjvGPB7SCKTXgpqxpmXOZdPj3O+ax2JX1Jxv269X9/+BiXgFeHXyu9ykcq/JXR7WBmeuw4oOB5DabqXwMfgY3yq1rEL0QrudXxgzabPBvzm706WzxAfg4/xcBJpu+BjNt1XenlxUiJ+evHMTBUhXv7i8q1ypvXPu580xRuEr2Fzit+0Se509a8/rCi+cf+bphf8Wvld7hLyafn889M6me88Mt57Ad3zPkarhjupRNrGoxqVT2YtnIlfAib/vuuHdysH8/DBqWAfc/7lSMkH4dsJ3xy/adPe4eqP3ilO3rl1go8ZnpWZ43ehcuXU7PGHJxfPd/bl0QdF8cHjZm6k87SP0azhDiqR7n131SQnNCqn5KrSyvbrmYDJfcxeGZ/hY7LZcDhMJOi+wzi/QjTim89OiluPqn9Sj5lYzMb5tWmWVdRSNqjuC2tPwznfBZtKOjVcukbJzUGnBMTHrDw9Y+4rvXH5XTsaN3CG9gn2Md/ff7P48K8//YqPmXlwSZ+PeVxuJL79+QvqMQscjIZ70Xozsa/hInzMjEaJ9TFuCYiPWelj2u6vPn2jKG5e1d8ngo/R4GOef3SjeOfrqmKMjzkOH/OPO4clzdhUoh6zwM3IrcfMabgAHzOrUfJ8jFcC4mOC+ZjrHz85L4rmrAw+Rr6P2e8o7d8ig485Dh9Tb+Hvzhu2R31JZ5uV0eBjhhqevY+xaJQ8H+OVgPiYcD7mu/fOirYsifDJ9zF/vWU8i3b4z5OPvt8d6INfK79yNbSa+dOLt4vT+08PZ3Sg+yh8zEDDs/cxFo0SnIMuCYiPWeVjrt5tjcvVu0Xx1nuv2FcaeQOs4PMxtZBRjzmCekwpnfV2EvUYm3HpxYPUesy8hmfvY8x3jo9olDAf45uAyX1M9cye+dO8RUbG+2O+vNlO3jAx5VtkuIFrnrue4le6RuT2iJnTfAI9jzaXv8I0tCpov7hfvcpq/9MWYzgfM+tpNGu4dI2SloOeCZjcx0ze5MnwMXX1ZfjdBfgY63vrRWlE/7uW4NfKrzQNnXvMG7odyzOVsCvQcOkapSYH5xMQH7NqX2nmq5cQPus6J10jnOofuTUOVI+Zuw9Ro6HUYzxMDD4mub6VOa4mB/ExsZzK/PdH4mPwMbl5F3M++BgniSedPawM9Zi0VgYfs+n3K41miIIcyHkZs85tg3UubZKvvDoLm9WnOhmFzBtDNz5mpWJs3x0fY/cx5uFN/nsUAatXyLkBnFoRyJk+69ysn44GPQSskObcADZBQDoCM/mV9/mYnIXBNjdu4Kz36zYIs/57+NXNby/4oNuzHpN1Ettv1yVP/1p60Pb2wfExCaJRegxtsK+UgJVwl4RffEy4aIo+Uux0njwbEP2TRbyAghyPiM62Q0s+57stUmGvFjUHrspvQNj9nF2+CjvtZrTYwhcVn0iYLL8/WDkB+F0JYPDuCsLVo6CysosC0IIH0pYDSsd/ud6yrxQrrqLGULPOFedXkT4APmYeWPilHhMp9WIMGzudqcfEYG3lmFE1auXcXLtTj3FFLEz7qDGEjwlD0opR4BcfsyJ8tu6Kj/FAPGqOe8zHtYv0+VOPcWU8fPuoMYSPCU+Y44jwi49xDJm2+avLs8PG8Oy/Au4a42M8yIqa4x7zce0iff74GFfGw7ePGkP4mPCEOY4Iv/gYx5Bpm7f5O29nwu0a42M8yIqa4x7zce0iff74GFfGw7ePGkP4mPCEOY4Iv/gYx5ChHuMNWJqOUXN8g48kff74mA2CxHKJoDG09P6tCHfuN/YNXFB8EtAddP7wm4BBp0sGpdvpymEax05nzvmG4SnoKNKDVpKPeXlx0tRW7z5uv3ZOEAfGbne7ox1y/gu30yscg22phxI+6fwa2Heq/PC7X7qk89tdOLqZZhAeku6ga9XCwUKl86hfURAD0TV8IU9ezbbQKK+JuXfyTMDUz12/uHd6eu9lK4i3n+z++/Bdqe4wbN+jAn7MPAQVPrH36+L5vTqvya04iLWwwe/2iTt6xSqbRw+lBE3nBB82oo8Rn+PXm2h4PNK30ah48zdH9kzA1D6mdi2VdynzoTh58EKWjylXoPESSFThE3k+RiS/3TMNBtXw2781F87vjmlPGXXV+IUF1mDF1evqFfUrX2q3qLvIGEij4a4xs6R9z5BF1agl83Fv45mAOfmYx7eLQlo9Zhc4Z81DlLHu1/vxINLHSOS3Bb6C3FxXomoE/LorYJAepsHouIiwdC+tv4l7XklijifS8CDx2h1kU42KMP/DjUR9zsQhAfPxMc8enBanF88a1x9WOOKAfn1tRs5OAxvliTp/geucTH7LuGmw7i4q8Nu9QRfL74Q0dLM58FfuKa3HyIyBRBoecklKoVEh5z82llMC5uJjntwpivqgjKTzMZ1DE52qHuucuc5J5ddIMKe8Wpnk4nyqAn4HlHVyO2o6r4yWJd032FeSGgOJNHwJa65tttQo17m5t3dIwCx8zDABxJzz7VgXfEz7uNm8iRHDr5l83c3nqAubLB8jOH9nxHVDut0l3rlHbB8jOAYSabgzhUs6aApal8+S3MdUpcheJUZSPcY86t7dndxmnQt4ErCXJoGETzi/ZS7V20lb3uvI+b5r4fz2zxe0+dQ7axA1nZesUCvbBErn0RsV6TFgLJgbavhKQtvuiTQq2PyNgdonr7pHNsom8wmY2sdU58K6P3ceivIx+0ccDj/mCQqEr+JRPL8bHfyMIQrzY4ZZ2MTz2zcyrRh1bxFI58nnlRTEgGwNV6RR5gF4lwRM7WPM5667/61AOLZfnAJeMcw6B78BKQk6FPw6walAjhY9OD2dsB7dFYDmFCS5NZaOv4ln3vUY1rncYr+eD+uctZ6RK3WL5gW/i2Ay0sGpfW6NY9PN9xLkxrh1LybDCc9MCR+Thi/pXji28CnAJ01gBboq/DoBqSBcPQoqK7soAM0pSHJrLB1/6jHpI0p6DLHOUY9Zs4xJj/8e+9I/Tux0ph6TfskZzEB60OJj0geV9BiKLXwK8EkfZCtmAL9O4CkI1zWu1K+vAtCcgiS3xtLxx8ekjyjpMcQ6Rz3Gb/US9rzhMqkgnT2CQQFoy6Ij01bS8cfHpA8s6TGEj8HHeCxdwr5XZLFOkM4ewaAAtMUBkmND6fjjY9JHlfQYwsfgYzyWLnxMeukZm0HsdOZ8TIa8S1+D8DHpg0p6DMUWPgX4pA+yFTOAXyfwFITrGlfq11cBaE5Bkltj6fhv4WNKjPiZRyC3sHaaD+RaEXDCM7fG1k9Hgx4CuTHoNB/YBAHpCMwEfN7v8/3xq2uxv9K98Ab36z/9+oPcX/idv0cv8fnfz6/V/EK3R0mmAk2sgJczL+cvV6DKmWvKwfkExMfEskoIn3Wdk64RTjfEuTXewKeqMTHlByGd8THi9AofY1Hd2CJY5owCL5/b0uU0n9gUK7jXccIzt8Yb8IuPyYf02HRPnvOlHpOu6oyPwcesrdNwA0c9Jp9lbDiT2AubJg2lHuNRjNFxLyquBmNOWFMOsq+01pH4bfHiY/Ax+Bg1JRnS2cPKKKip42MySWF8DD7GZz3d4H5dukb4wJpNnw34zUQBg0wDH4OPEadX1GPYV1rrfhA+6jHZmJaRieBjnPwN6YyPwcc4pUzYxtRj1joS9pU8JMzahXO+aV0OPsZJZ/Ex1oweNmBfKa31oR5DPWat+0H4qMekdSrzV8fH4GM8rIlTF3wMPsYpy2YaU49Z60ioxziJ18LG1GPSuhx8jJPCcluyMK/NZvgYfIxTluFj0piVGYuD8FGPSetUqMeE0lCeu/YwMTx3ndbE8D5fu/zGvpnTkQN2HDNuEZti6jFpyd+A34A2IvlQ3JZ4WBnqMWmtDOdjOB+ztsCD8FGPSetUqMcEdD+kMz4mrSnxuDo+Bh+Djyk8lGt5F+oxaV0O9Rgnl4OPWZ7aTUvqMR7mI2AXfMx2PublxUkJ9+7n9pPXv4jLgVefvlHP/+aV8WUiCN+eyhl+A2ZsxKGef3SjJvjWo/YLuuHXyq+TUcik8fPPT2u2iw//0X5fN3TP+BjFGh5RWAJ+79K0RmWSVsun4ZeAyb/v+uHd03svdwvekztFceehNB/zyflb773a2Zerd4vi3U+ak78I347KOX4laMRfbxXFjfvfVFN99E5RvPnZ84OVgV8rv8vFK5eWTy/ePrl4/nNlX3Z6eufR7r855ztbjNGs4dI1KpfMqvPIMh/fBEzuY9oCTGXqa08j8ZxvVZipPU3pZljneto35FeARlTe5Z2vD3dO33x2UjQlGfi18itMQ3tSW0pqcXr/KT6mlWjr1pI+DZeuUYJz0CUB8/ExD+8WxenFM2n1mOYYzSfnRXH26QX1mAmxG+E3f434/v6bxclH3xs+5lCb+fUHfEyX6BF+BWto6Wn+UdWHqcdYvYvRQKGGS9cowTnokoAZ+JjHtw8b0samkqR6zJc3D/M3NpWox7TqNs2vNI344esP6z0mfExzlG2aX8Ea+vOL+yfF25+/aD4CtnXO0OjVcOkaJTYH3RIwAx9TC+LusFh71FfcWffdgd/2qC/CN7Lv0OVXmkZU+0rUY6bWs2H+itXQ148+KIr6oAznY5aXZPRpuHSNEpqDrgmYkY/57cW90+LkwYvDdqw4H3P93XtnxRuX3x12mvAxffkb8Ju/RuzO9nI+ZtkJiQG/ajSUc75LrYw6DZeuURJzcGhirAmY2seUcV9vJ4n08qV3qbeTqMeMiN0svwI04tfqeaXD2d6Op+F8zM7czPIrUEOranavEkM9xmJiVGu4dI2SloOeCZjax7x+9qB9X0NbjJFzPubi8q3mfRNtMYbzMbX2zfErQSN++Kl9N0P70PX+u0vSvshu5dUDvQdvjl9pGro/29v9+eAxPsZWjNGs4dI1SlgO+iagpxYHEsG5erW8fSXjJXj4GJv2/VLyK0MjJl5XhY+Zp7jER5iGzr7iArqtGT1soEDDpWuUmhycT0B8zNrvH5j6ymuEz7rOSdeIlRWRtN1j34rgY9Ly27t6bLpHkx0fk1biNOUgPiaWU5lyMPs/x8fgY7JayTZe2DRpqPWYYc5E7+eGj5mX69G/VVAzph4zl5sbZIUCL5+/us3MMDbFCjQCfmesKj4mq/CInc7UY9KWXkavrikHY9Vj+gfi+P8BAlkJmetk4NOKgCukWbW3fjoa9BDIij7XycAmCEhHYO6u2zUfNqtSKtiX8cM2k16xb+DgNy3R8OuEv4Jw9Tiou7KLAtCcgiS3xtLxN/GMVY9ZGeLW7tI5UDB/K0drGijAJzfZcpoPPsYVLqf2uTWOTffkvlJuQLjMB41yQStuW3xMXHynRleQA2tsirWvAnzSBFagq8Ze2KTz24NZ+seJTTc+JlBehhxGetBSjwkZDX5jSY+h2MKnAB+/wMikF/w6EaEgXK23FsEbKADNKUhyaywdf3xM+oiSHkOsc/MxBL/W5+rTJ2G4GUC3h8tRAFq4CEowknT88TEJgoZCtJPSSc8xBfN34su1sXR8SGdXxsff55teif1nID2Gpc8fH+Mfu6F6So8h6jHUY9asZNLjHx+zhv19X+kxwPxDrYbrx+Gc73oMfUZQkAPrhWz+PWk+sGbTB37ZV8omGO0TiX1bwjlfOwebt5CuUdRjNg+ZwQWlx1Bs4VOAT/ogWzED+HUCT0G4Rr0twcc4hdM2jaUHLT5mmziZu4r0GGKdY19pzconPf7ZV1rDPvtK6Veg3Zdq5TCNIHNgXykIjM6DSI8hfAw+Zs1KJj3+8TFr2MfHOC8YETpoykF8TIQAWTCk9BjCx+Bj1qxk0uMfH7OGfXzMgiUiehNNOYiPiR4uoxeQHkP4GHzMmpVMevzjY9awj49Js+p0r6opB/ExaSJKegzhY/Axa1Yy6fGPj1nDPj4mzaqDj3HCPfgi9+ROOWRxevGsSR5BOvjq8qyc7dnlq+Xnq53QTtI4LMVy+d2Tu/85v2qpEBSfU/XC9QtVM4JcfjvgXJ03XPc4h25rtIiOAdEarkejfBPQ8zxz2EXut8e3i9Pbd08l+pgK+LPLq3Kxw8dMKp1cfkuFqHndiUXrZFjYWrrl8jt7i1Dldk04dFt8jOAYEK7hejVqeQLm4GOePTgt7j6u/im0HnN9Xa1x+JgJpVPA726565LMwlbTrYXfnqeB7t07eZf9KogBFRquKWhdPkt6H/Py4qS48/C31/iYJNtHkxcNVXJTwe8OJfPuQP67GeB3Pt+6bIt/FUcoukdtjYocV+FjFGmUUwKm9jEv7p0Wt59Urh8fo9HHKOF3UI3Bx+zv1PXw28u+noriY6YLM0piQIGP6X8EyTVjtwRM62P21ch9huBj9PkYNfzuajHdjUPJGlFFWogbdD38zu4pHeDKKz8dZxOC7lEroyYGxPsYTRo1JCPn564f3h08HlCc3nsp77tSxefAUBVDCJ8SfocCsfcBjktJXs3hd5qP/r0gdE+fklGS49LPOOrSKOcE9NTiECLYc/fUY/StcybFQvndPaXUO8K9Iwof013bhPI7knS9B9P2LaB7wYFf0TEg915Um0Z5JCA+ZqV76D/w3ix5CJ+GdW74PgMexB1/hkX0GmaKwOidLT5myYNLQmNAuIZr0yifBMzHx/TzRIEPWGmR0naPUHLrUAy/8JsWAaerKwjXBQWVJWbFoY0C0JyCJLfG0vE38cz5fMxcSkjnQMH8owqfAnxyky2n+eBTXeFyap9b49h0j2oFOZ42DKTjj49JGz9sqNtv2qTnmIL541OXywR0e0SLAtCWR0iGLaXjj49JH1TSYyj2DZwCfNIH2YoZwK8TeArC1cOIrOyiADSnIMmtsXT8t/AxJUb8zCOQW1g7zQdyrQg44ZlbY+uno0EPgdwYdJoPbIKAdARmAt7znK9TCtEYBEAABEAABEAABGIggI+JgSpjggAIgAAIgAAIbIEAPmYLlLkGCIAACIAACIBADATwMTFQZUwQAAEQAAEQAIEtEMDHbIEy1wABEAABEAABEIiBAD4mBqqMCQIgAAIgAAIgsAUC+JgtUOYaIAACIAACIAACMRDAx8RAlTFBAARAAARAAAS2QAAfswXKXAMEQAAEQAAEQCAGAviYGKgyJgiAAAiAAAiAwBYI4GO2QJlrgAAIgAAIgAAIxEAAHxMDVcYEARAAARAAARDYAgF8zBYocw0QAAEQAAEQAIEYCPw/pq7S9D+Jrc8AAAAASUVORK5CYII=)"
   ]
  },
  {
   "cell_type": "markdown",
   "metadata": {
    "id": "90PmJBR9bW8j"
   },
   "source": [
    "### Temel Fonksiyonlar\n",
    "\n",
    "* Veri Okuma/Yazma: Pandas, CSV, Excel, SQL gibi çeşitli dosya formatlarından veri okuyabilir ve veriyi bu formatlara yazabilir.\n",
    "\n",
    "* Indexleme ve Seçme: DataFrame içindeki verilere erişmek için kullanılır. Belirli satırları veya sütunları seçebilir, koşullu seçim yapabilirsiniz.\n",
    "\n",
    "* Veri Temizleme: Eksik verilerin ele alınması, veri dönüştürme, tekrar eden değerlerin kaldırılması gibi işlemleri içerir.\n",
    "\n",
    "* Veri Manipülasyonu: Sütunlar arasında hesaplamalar yapma, yeni sütunlar oluşturma, veriyi dönüştürme gibi işlemleri gerçekleştirebilirsiniz.\n",
    "\n",
    "* Gruplama ve Toplulaştırma: Belirli bir sütuna göre gruplama yapabilir ve gruplar üzerinde toplulaştırma işlemleri uygulayabilirsiniz.\n",
    "\n",
    "* Veri Görselleştirme: Matplotlib gibi diğer görselleştirme kütüphaneleriyle entegre çalışarak veriyi görselleştirebilirsiniz."
   ]
  },
  {
   "cell_type": "markdown",
   "metadata": {
    "id": "dE2EeTl3bt4x"
   },
   "source": [
    "Pandas'ı kodunuza dahil edin. Pandas genel olarak kod içerisinde \"pd\" olarak kullanılır."
   ]
  },
  {
   "cell_type": "code",
   "execution_count": 1,
   "metadata": {
    "id": "GSpf0HwkbbB-"
   },
   "outputs": [],
   "source": [
    "import pandas as pd"
   ]
  },
  {
   "cell_type": "markdown",
   "metadata": {
    "id": "ysIl3i8zb7gt"
   },
   "source": [
    "csv dosyası okuyalım."
   ]
  },
  {
   "cell_type": "code",
   "execution_count": null,
   "metadata": {
    "id": "Q2YjBjxbcDuX"
   },
   "outputs": [],
   "source": [
    "df = pd.read_csv(\"03-anage_data.csv\")"
   ]
  },
  {
   "cell_type": "markdown",
   "metadata": {
    "id": "mhFxwOL8cOs_"
   },
   "source": [
    "* df genellikle dataframe'in kısaltması olarak kullanılır.\n",
    "* pandas'ın read_csv methodu ile aynı dizinde bulunan 03-anage_data.csv dosyası df değişkenine atanır.\n",
    "\n",
    "csv okuma işlemlerini daha ayrıntılı öğrenmek için aşağıdaki kaynaktan yararlanabilirsiniz.\n",
    "\n",
    "https://www.datacamp.com/tutorial/pandas-read-csv"
   ]
  },
  {
   "cell_type": "code",
   "execution_count": null,
   "metadata": {
    "id": "o7mHB_VzcOJm"
   },
   "outputs": [],
   "source": [
    "df # Jupyter Notebook ya da Google Colabraty kullanarak tek satırlık yazdırma işlemlerinizi print yazmadan yapabilirsiniz. Direkt bu hücreyi çalıştırırsanız df değişkeni yazdırılacaktır."
   ]
  },
  {
   "cell_type": "markdown",
   "metadata": {
    "id": "v-r1FhtHdHWw"
   },
   "source": [
    "head(): Bu yöntem, DataFrame'in ilk n satırını döndürür. Varsayılan olarak, n=5'tir, ancak isteğe bağlı olarak belirli bir sayıda satır alabilirsiniz. Örneğin:"
   ]
  },
  {
   "cell_type": "code",
   "execution_count": null,
   "metadata": {
    "id": "5i9VfE8Ndf81"
   },
   "outputs": [],
   "source": [
    "df.head()  # DataFrame'in ilk 5 satırını döndürür"
   ]
  },
  {
   "cell_type": "code",
   "execution_count": null,
   "metadata": {
    "id": "Q5f3T4jfdNPw"
   },
   "outputs": [],
   "source": [
    "df.head(10)  # DataFrame'in ilk 10 satırını döndürür"
   ]
  },
  {
   "cell_type": "markdown",
   "metadata": {
    "id": "qygd7_g2dKef"
   },
   "source": [
    "tail(): Bu yöntem, DataFrame'in son n satırını döndürür. Yine, varsayılan olarak n=5'tir. Örneğin:"
   ]
  },
  {
   "cell_type": "code",
   "execution_count": null,
   "metadata": {
    "id": "rFNoJWbQdTnl"
   },
   "outputs": [],
   "source": [
    "df.tail()  # DataFrame'in son 5 satırını döndürür"
   ]
  },
  {
   "cell_type": "code",
   "execution_count": null,
   "metadata": {
    "id": "Z6vEOWNSdloz"
   },
   "outputs": [],
   "source": [
    "df.tail(10)  # DataFrame'in son 10 satırını döndürür\n"
   ]
  },
  {
   "cell_type": "markdown",
   "metadata": {
    "id": "A45sWza6dFV-"
   },
   "source": [
    "describe(): Bu yöntem, DataFrame'in istatistiksel özetini sağlar. Bu, sayısal sütunlar için bir dizi istatistiksel bilgiyi (count, mean, std, min, max, ve percentiles gibi) döndürür. Örneğin:"
   ]
  },
  {
   "cell_type": "code",
   "execution_count": null,
   "metadata": {
    "id": "RS6u7KYqdVsj"
   },
   "outputs": [],
   "source": [
    "df.describe() # DataFrame'in istatistiksel özetini döndürür"
   ]
  },
  {
   "cell_type": "markdown",
   "metadata": {
    "id": "nTXqBRtpdCHm"
   },
   "source": [
    "info(): Bu yöntem, DataFrame hakkında temel bilgiler sağlar. Her sütunun adı, null olmayan değer sayısı ve veri türü gibi bilgileri içerir. Örneğin:"
   ]
  },
  {
   "cell_type": "code",
   "execution_count": null,
   "metadata": {
    "id": "n7U8JNvlcuQ_"
   },
   "outputs": [],
   "source": [
    "df.info()   # DataFrame hakkında temel bilgileri döndürür"
   ]
  },
  {
   "cell_type": "markdown",
   "metadata": {
    "id": "YOtEXPjseWqz"
   },
   "source": [
    "datasetteki sütunları görüntüleme"
   ]
  },
  {
   "cell_type": "code",
   "execution_count": null,
   "metadata": {
    "id": "k8qOJF0seZmW"
   },
   "outputs": [],
   "source": [
    "df.columns # DataFrame sütun adlarını döndürür"
   ]
  },
  {
   "cell_type": "markdown",
   "metadata": {
    "id": "A1Y6TmbAfdFb"
   },
   "source": [
    "Pandas DataFrame'inde sütunlara ve satırlara erişmek için farklı yöntemler vardır."
   ]
  },
  {
   "cell_type": "markdown",
   "metadata": {
    "id": "Xn46uHpFfgh9"
   },
   "source": [
    "**Sütunlara Erişme:**"
   ]
  },
  {
   "cell_type": "markdown",
   "metadata": {
    "id": "Ivu_ceA0fkac"
   },
   "source": [
    "Sütun İsimleriyle: DataFrame'in sütun adını köşeli parantez içinde belirterek sütuna erişebilirsiniz. Bu, tek bir sütunu döndürür ve bir Pandas Series nesnesi oluşturur."
   ]
  },
  {
   "cell_type": "code",
   "execution_count": null,
   "metadata": {
    "id": "LmcJ4v41flHA"
   },
   "outputs": [],
   "source": [
    "df['column_name']  # 'column_name' adlı sütuna erişir"
   ]
  },
  {
   "cell_type": "markdown",
   "metadata": {
    "id": "aNri7bRxfnJq"
   },
   "source": [
    "Nokta Notasyonuyla: Sütun adları uygunsa, nokta notasyonuyla da sütunlara erişebilirsiniz. Ancak bu yöntemde boşluk içeren sütun adları için kullanılamaz."
   ]
  },
  {
   "cell_type": "code",
   "execution_count": null,
   "metadata": {
    "id": "u20Dy84xforM"
   },
   "outputs": [],
   "source": [
    "df.column_name  # column_name adlı sütuna erişir"
   ]
  },
  {
   "cell_type": "markdown",
   "metadata": {
    "id": "SoPNFgCHfsdk"
   },
   "source": [
    "**Satırlara Erişme:**"
   ]
  },
  {
   "cell_type": "markdown",
   "metadata": {
    "id": "slI30ARxfv_f"
   },
   "source": [
    "iloc[] ile Konum İndekslemesi: iloc, satırlara konum indeksiyle erişim sağlar. İndeksler sıfırdan başlar."
   ]
  },
  {
   "cell_type": "code",
   "execution_count": null,
   "metadata": {
    "id": "nJhF-CPOfuON"
   },
   "outputs": [],
   "source": [
    "df.iloc[row_index]  # row_index ile belirtilen satıra erişir"
   ]
  },
  {
   "cell_type": "markdown",
   "metadata": {
    "id": "rTabxnAUf1ti"
   },
   "source": [
    "loc[] ile Etiket İndekslemesi: loc, satırlara etiket indeksiyle erişim sağlar. Satır etiketleri veya indeksler kullanılır."
   ]
  },
  {
   "cell_type": "code",
   "execution_count": null,
   "metadata": {
    "id": "p3hAHSYzf3o1"
   },
   "outputs": [],
   "source": [
    "df.loc[row_label]  # row_label ile belirtilen satıra erişir"
   ]
  },
  {
   "cell_type": "markdown",
   "metadata": {
    "id": "OBqd2oP0f6ag"
   },
   "source": [
    "Belirli Satır Aralıklarına Erişme: Slicing işlemiyle belirli satır aralıklarına erişilebilir."
   ]
  },
  {
   "cell_type": "code",
   "execution_count": null,
   "metadata": {
    "id": "xbkm236Yf67w"
   },
   "outputs": [],
   "source": [
    "df[start_index:end_index]  # start_index ve end_index arasındaki satırları döndürür"
   ]
  },
  {
   "cell_type": "markdown",
   "metadata": {
    "id": "3idVNHkXheWN"
   },
   "source": [
    "##### Conditional Slicing konusunu araştırınız.\n",
    "\n",
    "Örnek Kaynak: https://www.kdnuggets.com/2022/12/five-ways-conditional-filtering-pandas.html"
   ]
  },
  {
   "cell_type": "markdown",
   "metadata": {
    "id": "AOfagZhqe0b0"
   },
   "source": [
    "isnull() yöntemi, DataFrame veya Serideki her bir öğenin değerinin boş (NaN) olup olmadığını kontrol eder. Boş değerler genellikle eksik veya geçersiz veri girişlerini temsil eder. Bu yöntemi kullanarak boş değerlerin tespit edilmesi, veri temizliği ve analizi için önemlidir."
   ]
  },
  {
   "cell_type": "code",
   "execution_count": null,
   "metadata": {
    "id": "pue3h2Pre4Ny"
   },
   "outputs": [],
   "source": [
    "# DataFrame'deki tüm boş değerleri bulma\n",
    "df.isnull()"
   ]
  },
  {
   "cell_type": "code",
   "execution_count": null,
   "metadata": {
    "id": "m8g9Wmlre51m"
   },
   "outputs": [],
   "source": [
    "# Belirli bir sütundaki boş değerleri bulma\n",
    "df['Litter/Clutch size'].isnull()  # İstediğiniz sütun adını verip null değerleri kontrol edebilirsiniz."
   ]
  },
  {
   "cell_type": "code",
   "execution_count": null,
   "metadata": {
    "id": "FoRR3UpBe7UR"
   },
   "outputs": [],
   "source": [
    "# DataFrame'deki tüm boş değerlerin toplam sayısını bulma\n",
    "df.isnull().sum()"
   ]
  },
  {
   "cell_type": "code",
   "execution_count": null,
   "metadata": {
    "id": "Rnw0vOHLe9wW"
   },
   "outputs": [],
   "source": [
    "# Belirli bir sütundaki boş değerlerin toplam sayısını bulma\n",
    "df['Litter/Clutch size'].isnull().sum() # İstediğiniz sütun adını verip null değerleri kontrol edebilirsiniz."
   ]
  },
  {
   "cell_type": "markdown",
   "metadata": {
    "id": "eiI_5otIhzNJ"
   },
   "source": [
    "### Veri Temizleme\n",
    "\n",
    "Pandas, veri temizleme süreçlerini kolaylaştıran bir dizi fonksiyona sahiptir."
   ]
  },
  {
   "cell_type": "markdown",
   "metadata": {
    "id": "_ifiQiG5h546"
   },
   "source": [
    "Eksik Değerlerle Başa Çıkma:\n",
    "* isnull(): DataFrame içindeki eksik değerleri tespit eder.\n",
    "* dropna(): Eksik değerleri içeren satırları veya sütunları kaldırır.\n",
    "* fillna(): Eksik değerleri belirli bir değerle doldurur."
   ]
  },
  {
   "cell_type": "code",
   "execution_count": null,
   "metadata": {
    "id": "ggzJuL7Ih1Zb"
   },
   "outputs": [],
   "source": [
    "# Eksik değerleri tespit etme\n",
    "print(df.isnull())\n",
    "\n",
    "# Eksik değerleri içeren satırları kaldırma\n",
    "cleaned_df = df.dropna()\n",
    "print(cleaned_df)\n",
    "\n",
    "# Eksik değerleri belirli bir değerle doldurma\n",
    "filled_df = df.fillna(0)\n",
    "print(filled_df)"
   ]
  },
  {
   "cell_type": "markdown",
   "metadata": {
    "id": "HSauMrVsiGJB"
   },
   "source": [
    "Tekrar Eden Değerlerle Başa Çıkma:\n",
    "* duplicated(): Tekrar eden satırları tespit eder.\n",
    "* drop_duplicates(): Tekrar eden satırları kaldırır."
   ]
  },
  {
   "cell_type": "code",
   "execution_count": null,
   "metadata": {
    "id": "OLUE1mzriKst"
   },
   "outputs": [],
   "source": [
    "print(df.duplicated())\n",
    "\n",
    "# Tekrar eden satırları kaldırma\n",
    "cleaned_df = df.drop_duplicates()\n",
    "print(cleaned_df)"
   ]
  },
  {
   "cell_type": "markdown",
   "metadata": {
    "id": "VqSfUK7KiN_2"
   },
   "source": [
    "Veri Türü Dönüşümü:\n",
    "astype(): Sütunun veri türünü değiştirir."
   ]
  },
  {
   "cell_type": "code",
   "execution_count": null,
   "metadata": {
    "id": "77IUuVHCiRkH"
   },
   "outputs": [],
   "source": [
    "# Veri türü dönüşümü örneği\n",
    "df['A'] = df['A'].astype(float)\n",
    "print(df.dtypes)"
   ]
  },
  {
   "cell_type": "markdown",
   "metadata": {
    "id": "he0MfJLeieHV"
   },
   "source": [
    "### Veri Manipülasyonu\n",
    "Pandas, veri manipülasyonu için birçok fonksiyon ve yöntem sunar."
   ]
  },
  {
   "cell_type": "markdown",
   "metadata": {
    "id": "JIpFYPziii5s"
   },
   "source": [
    "Yeni Sütunlar Oluşturma:\n",
    "* Yeni bir sütun oluşturmak için DataFrame'e bir sütun ekleyebilirsiniz."
   ]
  },
  {
   "cell_type": "code",
   "execution_count": null,
   "metadata": {
    "id": "roCQfiE8im7u"
   },
   "outputs": [],
   "source": [
    "# Yeni bir sütun oluşturma\n",
    "df['C'] = df['A'] + df['B']\n",
    "print(df)"
   ]
  },
  {
   "cell_type": "markdown",
   "metadata": {
    "id": "5hMNceuMiqzo"
   },
   "source": [
    "Sütun Değerlerini Dönüştürme:\n",
    "* Sütun değerlerini dönüştürmek için lambda ifadeleri veya diğer fonksiyonlar kullanılabilir."
   ]
  },
  {
   "cell_type": "code",
   "execution_count": null,
   "metadata": {
    "id": "7NYWbCNzisbw"
   },
   "outputs": [],
   "source": [
    "# Sütun değerlerini dönüştürme örneği\n",
    "df['D'] = df['C'].apply(lambda x: x * 2)\n",
    "print(df)"
   ]
  },
  {
   "cell_type": "markdown",
   "metadata": {
    "id": "XR_kLSN8iu07"
   },
   "source": [
    "Sütunları Birleştirme:\n",
    "* İki veya daha fazla sütunu birleştirmek için farklı yöntemler kullanılabilir, örneğin, sütunları toplamak, çıkarmak, çarpmak veya bölmek."
   ]
  },
  {
   "cell_type": "code",
   "execution_count": null,
   "metadata": {
    "id": "nZYJWpZZixym"
   },
   "outputs": [],
   "source": [
    "# Sütunları birleştirme örneği\n",
    "df['E'] = df['A'] * df['B']\n",
    "print(df)"
   ]
  },
  {
   "cell_type": "markdown",
   "metadata": {
    "id": "ghdUtVVyi0zS"
   },
   "source": [
    "Veri Gruplama ve Toplulaştırma:\n",
    "* Belirli bir sütuna göre veriyi gruplayıp toplulaştırmak için groupby() fonksiyonunu kullanabilirsiniz."
   ]
  },
  {
   "cell_type": "code",
   "execution_count": null,
   "metadata": {
    "id": "jg2iWTpYi3Vh"
   },
   "outputs": [],
   "source": [
    "# Veri gruplama ve toplulaştırma örneği\n",
    "grouped_df = df.groupby('A').sum()\n",
    "print(grouped_df)"
   ]
  },
  {
   "cell_type": "markdown",
   "metadata": {
    "id": "_9b-LFMyi7AY"
   },
   "source": [
    "Satırları ve Sütunları Filtreleme:\n",
    "* Belirli koşullara göre satırları veya sütunları filtrelemek için koşullu dilimleme yapabilirsiniz."
   ]
  },
  {
   "cell_type": "code",
   "execution_count": null,
   "metadata": {
    "id": "0fVB5c3Ii9F1"
   },
   "outputs": [],
   "source": [
    "# Satırları ve sütunları filtreleme örneği\n",
    "filtered_df = df[df['A'] > 2]\n",
    "print(filtered_df)"
   ]
  },
  {
   "cell_type": "markdown",
   "metadata": {
    "id": "CUllMiUCjHiL"
   },
   "source": [
    "### Veri Görselleştirme\n",
    "\n",
    "Veri görselleştirmesi, verileri grafikler, tablolar ve diğer görsel öğeler aracılığıyla anlamanıza yardımcı olan önemli bir veri analizi aracıdır. Pandas, Matplotlib, Seaborn gibi kütüphanelerle birlikte kullanılarak veri görselleştirmesi yapılabilir.\n",
    "\n",
    "Neden Veri Görselleştirmesi?\n",
    "\n",
    "* Veri görselleştirmesi, karmaşık veri kümelerinin daha anlaşılır ve özümsenebilir hale getirilmesine yardımcı olur.\n",
    "\n",
    "* Veri görselleştirmesi, verilerdeki trendleri, dağılımları, ilişkileri ve anormallikleri keşfetmek için kullanılır.\n",
    "\n",
    "* Grafikler, verilerinizi sunumlar, raporlar ve diğer iletişim biçimleri için etkili bir şekilde görselleştirmenize olanak tanır."
   ]
  },
  {
   "cell_type": "markdown",
   "metadata": {
    "id": "3JtDwrIwjU9l"
   },
   "source": [
    "Pandas ve Matplotlib/Seaborn\n",
    "\n",
    "* Pandas, verilerinizi temizleme, manipüle etme ve analiz etme yeteneğine sahipken, Matplotlib ve Seaborn gibi kütüphanelerle birlikte veri görselleştirmesi yapabilirsiniz.\n",
    "\n",
    "* Matplotlib, Python'da temel grafik oluşturma işlevselliği sağlarken, Seaborn, Matplotlib üzerine inşa edilmiş daha yüksek seviye bir kütüphanedir ve daha çekici ve karmaşık grafikler oluşturmanıza yardımcı olur."
   ]
  },
  {
   "cell_type": "markdown",
   "metadata": {
    "id": "QMek09q9jbZA"
   },
   "source": [
    "Temel Görselleştirme Türleri:\n",
    "\n",
    "* Çizgi Grafikleri: Zaman serilerini veya sürekli verileri görselleştirmek için kullanılır.\n",
    "\n",
    "* Histogramlar: Veri dağılımını göstermek için kullanılır.\n",
    "\n",
    "* Sütun Grafikleri: Kategorik verileri veya gruplanmış verileri görselleştirmek için kullanılır.\n",
    "\n",
    "* Dağılım Grafikleri: İki değişken arasındaki ilişkiyi göstermek için kullanılır.\n",
    "\n",
    "*  Kutu Grafikleri: Değişkenlerin dağılımını ve merkezi eğilimini göstermek için kullanılır."
   ]
  },
  {
   "cell_type": "markdown",
   "metadata": {
    "id": "Yn8xqc9WjoHj"
   },
   "source": [
    "**Matplotlib/Seaborn Kaynaklar:**\n",
    "\n",
    "* https://www.w3schools.com/python/matplotlib_pyplot.asp\n",
    "* https://www.w3schools.com/python/numpy/numpy_random_seaborn.asp\n",
    "* https://www.geeksforgeeks.org/python-seaborn-tutorial/\n",
    "* https://www.geeksforgeeks.org/matplotlib-tutorial\n",
    "* https://drive.google.com/drive/folders/130js4RTmwl5h8iS-QflnY0pOQRFxC8Pm?usp=share_link\n",
    "* https://drive.google.com/file/d/1tGF-nUlY72f5hIBXQ5u_vK5OaLw8IwL-/view?usp=share_link"
   ]
  },
  {
   "cell_type": "markdown",
   "metadata": {
    "id": "67rb5OTJkl5j"
   },
   "source": [
    "Kurulumlar:\n",
    "\n",
    "`pip install matplotlib`\n",
    "\n",
    "`pip install seaborn`"
   ]
  },
  {
   "cell_type": "code",
   "execution_count": null,
   "metadata": {
    "id": "daZJBZDUkhv8"
   },
   "outputs": [],
   "source": [
    "import matplotlib.pyplot as plt\n",
    "import seaborn as sb"
   ]
  },
  {
   "cell_type": "markdown",
   "metadata": {
    "id": "q93aPzgpka1r"
   },
   "source": [
    "#### Scatter Plot"
   ]
  },
  {
   "cell_type": "code",
   "execution_count": null,
   "metadata": {
    "id": "QaTR5dahjh_b"
   },
   "outputs": [],
   "source": [
    "X_COLUMN = \"B\"\n",
    "Y_COLUMN = \"A\"\n",
    "\n",
    "sb.scatterplot(data=df, x=X_COLUMN, y=Y_COLUMN)\n",
    "plt.show()"
   ]
  },
  {
   "cell_type": "markdown",
   "metadata": {
    "id": "mtg2aZ0ck14n"
   },
   "source": [
    "#### Histogram"
   ]
  },
  {
   "cell_type": "code",
   "execution_count": null,
   "metadata": {
    "id": "Z4OnAZQlk-ku"
   },
   "outputs": [],
   "source": [
    "COLUMN_NAME = \"C\"\n",
    "\n",
    "sb.histplot(data=df[COLUMN_NAME])\n",
    "plt.show()"
   ]
  },
  {
   "cell_type": "markdown",
   "metadata": {
    "id": "Zptv-fdllCti"
   },
   "source": [
    "#### Bar Chart"
   ]
  },
  {
   "cell_type": "code",
   "execution_count": null,
   "metadata": {
    "id": "vPqpLlIIlGGt"
   },
   "outputs": [],
   "source": [
    "bar_data = df[['A', 'B']].copy() # ! Set Data\n",
    "\n",
    "sb.barplot(data=bar_data, x=\"A\", y=\"B\")"
   ]
  },
  {
   "cell_type": "markdown",
   "metadata": {
    "id": "CfbYDG2Hla21"
   },
   "source": [
    "#### Box Plot"
   ]
  },
  {
   "cell_type": "code",
   "execution_count": null,
   "metadata": {
    "id": "wz6K32S0lY6h"
   },
   "outputs": [],
   "source": [
    "box_data = df[\"A\"] # ! Set Data\n",
    "sb.boxplot(data=box_data)"
   ]
  },
  {
   "cell_type": "markdown",
   "metadata": {
    "id": "c9qqaOBdlkHr"
   },
   "source": [
    "#### Pie Chart"
   ]
  },
  {
   "cell_type": "code",
   "execution_count": null,
   "metadata": {
    "id": "vvn5J9LAlk41"
   },
   "outputs": [],
   "source": [
    "COLUMN_NAME = \"A\" #! Set Data\n",
    "\n",
    "size = 10 # ! Maximum number of categories to display\n",
    "value_counts = df[COLUMN_NAME].value_counts().nlargest(size)\n",
    "prop = value_counts.values / df[COLUMN_NAME].count() * 100\n",
    "plt.pie(prop, labels = value_counts.index, autopct='%1.1f%%')\n",
    "plt.title(COLUMN_NAME.upper())\n",
    "plt.show()"
   ]
  },
  {
   "cell_type": "markdown",
   "metadata": {
    "id": "K_jnMao89JIL"
   },
   "source": [
    "## Ödev"
   ]
  },
  {
   "cell_type": "markdown",
   "metadata": {
    "id": "oaepO6DW9Y8u"
   },
   "source": [
    "Aşağıdaki işlemleri pandas, numpy, matplotlib ve seaborn kütüphanelerini kullanarak ve \"03-automobiles.csv\" datasını kullanarak yapınız.\n",
    "\n",
    "* datayı describe, info metodları ile incele\n",
    "\n",
    "* \"make\" sütununda kaç ayrı marka mevcuttur. Bu markaları \"pie chart\" yöntemi ile grafikleştiriniz.\n",
    "\n",
    "* \"fuel-type\" sütunundaki \"gas\" olan satırları 0 olarak, \"diesel\" olan satırları 1 olarak güncelle.\n",
    "\n",
    "* \"length\" sütunundaki verilerden yararlanarak \"lenght2\" adında yeni bir sütun oluşturun. Bu sütunda \"length\" sütunundaki veri 160 ve 160'tan küçükse \"kısa\", büyük ise \"uzun\" yazsın.\n",
    "\n",
    "* \"price\" sütunundaki verileri histogram yöntemi ile grafikleştirin.\n",
    "\n",
    "* \"horsepower\" ve \"price\" sütunları arasındaki ilişkiyi scatter grafiği çizdirerek inceleyin."
   ]
  },
  {
   "cell_type": "code",
   "execution_count": null,
   "metadata": {
    "id": "EiAkg3eN9LPW"
   },
   "outputs": [],
   "source": [
    "# Ödev kodunu buraya yazınız.\n",
    "\n",
    "import matplotlib.pyplot as plt\n",
    "import seaborn as sb \n",
    "import pandas as pd\n",
    "\n",
    "# Önemli Not: Çok muntazam olmamış olabilir hatalarımız şimdiden affola.\n",
    "\n",
    "\"\"\"1) Verilerin <describe> ve <info> metoduyla incelenmesi\"\"\"\n",
    "df = pd.read_csv(\"03-automobiles.csv\") # df: DataFrame\n",
    "\n",
    "# print(df.describe()) # <descibe> metoduyla istatiksel inceleme\n",
    "# print(df.info()) # <info> metoduyla temel inceleme\n",
    "\n",
    "\"\"\"2) 'Make' sütununda kaç farkli marka olduğunun bulunmasi ve markalarin 'pie chart' yöntemi ile grafikleştirilmesi\"\"\"\n",
    "make_counts = df['make'].value_counts() # Farklı değerlerin bulunması\n",
    "print(make_counts) # Test\n",
    "\n",
    "# Veriyi pasta grafiğine dönüştürme (Yapay zekâdan yardım alınmıştır ! ! !)\n",
    "plt.figure(figsize=(10, 8))\n",
    "make_counts.plot.pie(autopct='%1.1f%%', startangle=90, colormap='viridis')\n",
    "plt.title(\"Marka Dağilimi Pasta Grafigi\")\n",
    "plt.show()\n",
    "# Figure 1 adı altında yüzdeliği en az olan sarı, en çok olan mor olmak üzere:\n",
    "# Rengarenk bir yüzdelik pasta grafiği oluşturuldu.\n",
    "# Not: Yüzdeliklerin az olduğu kısımda marka isimlerinin üst üste çakışmasına bir çözüm bulamadım.\n",
    "\n",
    "\"\"\"3) 'fuel-type' veri sütunundaki 'gas' değerlerinin 0, 'diesel' değerlerinin 1 olarak güncellenmesi\"\"\"\n",
    "df['fuel-type'] = df['fuel-type'].map({'gas': 0, 'diesel': 1})\n",
    "print(df['fuel-type'].head()) # Test\n",
    "\n",
    "\"\"\"4) 'length' sütunundan faydalanarak 'length2' sütununun oluşturulmasi ve oluşturulan sütunda 'length' sütunundaki veri 160'a küçük eşitse 'kisa', büyük ise 'uzun' yazdirilmasi\"\"\"\n",
    "df['length2'] = df['length'].apply(lambda x: 'kisa' if x <= 160 else 'uzun')\n",
    "print(df[['length', 'length2']].head())  # Test\n",
    "\n",
    "\"\"\"5) 'price' sütunundaki verilerin histogram yöntemiyle grafikleştirilmesi\"\"\"\n",
    "# Veriyi histograma dönüştürme\n",
    "plt.figure(figsize=(10, 6))\n",
    "sb.histplot(df['price'], bins=20, kde=True, color='green')\n",
    "plt.title(\"Fiyat Dağilimi Histogrami\")\n",
    "plt.xlabel(\"Fiyat\")\n",
    "plt.ylabel(\"Frekans\")\n",
    "plt.show()\n",
    "# Figure 1 adı altında minimum frekans değeri 0, maksimum frekans değeri 40;\n",
    "# Minimum fiyat değeri 0, maksimum fiyat değeri 45000 olan bir histogram oluşturuldu.\n",
    "\n",
    "\"\"\"6) 'horsepower' ve 'price' sütunlari arasindaki ilişkinin 'scatter' grafiği ile incelenmesi\"\"\"\n",
    "# Veriyi dağılım grafiğine dönüştürme\n",
    "plt.figure(figsize=(10, 6))\n",
    "sb.scatterplot(x='horsepower', y='price', data=df, color='green', alpha=0.7)\n",
    "plt.title(\"Horsepower vs Price\")\n",
    "plt.xlabel(\"Horsepower\")\n",
    "plt.ylabel(\"Price\")\n",
    "plt.grid(True)\n",
    "plt.show()\n",
    "# Figure 1 adı altında yeşil noktalı dağılım grafiği oluşturuldu.\n",
    "# Önemli Not: 'horsepower' verilerinin birbirine karışmasını engelleyemedim!\n"
   ]
  }
 ],
 "metadata": {
  "colab": {
   "provenance": [],
   "toc_visible": true
  },
  "kernelspec": {
   "display_name": "Python 3",
   "name": "python3"
  },
  "language_info": {
   "name": "python"
  }
 },
 "nbformat": 4,
 "nbformat_minor": 0
}
